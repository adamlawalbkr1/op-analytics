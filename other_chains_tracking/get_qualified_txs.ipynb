{
 "cells": [
  {
   "cell_type": "code",
   "execution_count": 1,
   "metadata": {
    "metadata": {}
   },
   "outputs": [
    {
     "name": "stdout",
     "output_type": "stream",
     "text": [
      "get qualified txs\n"
     ]
    }
   ],
   "source": [
    "print('get qualified txs')\n",
    "import sys\n",
    "sys.path.append(\"../helper_functions\")\n",
    "import duneapi_utils as d\n",
    "import flipside_utils as f\n",
    "import clickhouse_utils as ch\n",
    "import csv_utils as cu\n",
    "import google_bq_utils as bqu\n",
    "import opstack_metadata_utils as ops\n",
    "sys.path.pop()\n",
    "\n",
    "import time\n",
    "\n",
    "import numpy as np\n",
    "import pandas as pd\n",
    "import os\n",
    "import clickhouse_connect as cc"
   ]
  },
  {
   "cell_type": "code",
   "execution_count": 2,
   "metadata": {},
   "outputs": [],
   "source": [
    "# d = ops.get_op_stack_metadata_by_data_source('flipside')\n",
    "chain_configs = ops.generate_op_stack_chain_config_query_list()\n",
    "\n",
    "# Get All Chain IDs in our metadata list & DB\n",
    "# Commented out to read from Flip & CH responses\n",
    "# chain_ids_string = ops.gen_chain_ids_list_for_param(chain_configs['mainnet_chain_id'])\n",
    "\n",
    "# display(chain_configs)"
   ]
  },
  {
   "cell_type": "code",
   "execution_count": 3,
   "metadata": {
    "metadata": {}
   },
   "outputs": [],
   "source": [
    "ch_client = ch.connect_to_clickhouse_db() #Default is OPLabs DB\n",
    "\n",
    "query_name = 'daily_evms_qualified_txs_counts'"
   ]
  },
  {
   "cell_type": "code",
   "execution_count": 4,
   "metadata": {},
   "outputs": [],
   "source": [
    "col_list = [\n",
    "        'dt','blockchain','name','layer','chain_id'\n",
    "        , 'num_raw_txs', 'num_success_txs','num_qualified_txs','source'\n",
    "        ]"
   ]
  },
  {
   "cell_type": "code",
   "execution_count": 5,
   "metadata": {
    "metadata": {}
   },
   "outputs": [],
   "source": [
    "trailing_days = 90\n",
    "\n",
    "# flipside_configs = chain_configs[chain_configs['source'] == 'flipside']\n",
    "clickhouse_configs = chain_configs[chain_configs['source'] == 'oplabs']"
   ]
  },
  {
   "cell_type": "code",
   "execution_count": 6,
   "metadata": {
    "metadata": {}
   },
   "outputs": [],
   "source": [
    "# print('     flipside runs')\n",
    "# flip_dfs = []\n",
    "\n",
    "# with open(os.path.join(\"inputs/sql/flipside_bychain.sql\"), \"r\") as file:\n",
    "#     og_query = file.read()\n",
    "\n",
    "# for index, chain in flipside_configs.iterrows():\n",
    "#     print('     flipside: ' + chain['blockchain'])\n",
    "#     query = og_query\n",
    "#     # Pass in Params to the query\n",
    "#     query = query.replace(\"@blockchain@\", chain['blockchain'])\n",
    "#     query = query.replace(\"@chain_id@\", str(chain['mainnet_chain_id']))\n",
    "#     query = query.replace(\"@name@\", chain['display_name'])\n",
    "#     query = query.replace(\"@layer@\", chain['chain_layer'])\n",
    "#     query = query.replace(\"@trailing_days@\", str(trailing_days))\n",
    "    \n",
    "#     try:\n",
    "#         df = f.query_to_df(query)\n",
    "#         flip_dfs.append(df)\n",
    "#     except Exception as e:  # Use FlipsideError if available instead of Exception\n",
    "#         print(f\"Error querying Flipside for {chain['blockchain']}: {str(e)}\")\n",
    "#         print(\"Skipping this chain due to API credit limitation or other issues.\")\n",
    "#         continue\n",
    "\n",
    "# if flip_dfs:\n",
    "#     flip = pd.concat(flip_dfs)\n",
    "#     flip['source'] = 'flipside'\n",
    "#     flip['dt'] = pd.to_datetime(flip['dt']).dt.tz_localize(None)\n",
    "#     flip = flip[col_list]\n",
    "# else:\n",
    "#     print(\"No data was retrieved from Flipside. The resulting DataFrame will be empty.\")\n",
    "#     flip = pd.DataFrame(columns=col_list)"
   ]
  },
  {
   "cell_type": "code",
   "execution_count": 7,
   "metadata": {
    "metadata": {}
   },
   "outputs": [
    {
     "name": "stdout",
     "output_type": "stream",
     "text": [
      "     clickhouse runs\n",
      "clickhouse: op\n",
      "clickhouse: zora\n",
      "clickhouse: base\n",
      "clickhouse: kroma\n",
      "clickhouse: orderly\n",
      "clickhouse: lyra\n",
      "clickhouse: mode\n",
      "clickhouse: fraxtal\n",
      "clickhouse: metal\n",
      "clickhouse: redstone\n",
      "clickhouse: bob\n",
      "clickhouse: lisk\n",
      "clickhouse: mint\n",
      "clickhouse: cyber\n",
      "clickhouse: ham\n",
      "clickhouse: xterio\n",
      "clickhouse: swan\n",
      "clickhouse: race\n",
      "clickhouse: polynomial\n",
      "clickhouse: shape\n"
     ]
    }
   ],
   "source": [
    "# Run Clickhouse\n",
    "print('     clickhouse runs')\n",
    "ch_dfs = []\n",
    "with open(os.path.join(\"inputs/sql/goldsky_bychain.sql\"), \"r\") as file:\n",
    "                        og_query = file.read()\n",
    "\n",
    "for index, chain in clickhouse_configs.iterrows():\n",
    "        print(     'clickhouse: ' + chain['blockchain'])\n",
    "        query = og_query\n",
    "        #Pass in Params to the query\n",
    "        query = query.replace(\"@blockchain@\", chain['blockchain'])\n",
    "        if chain['blockchain'] == 'bob':\n",
    "                query = query.replace(\"chain_id, --db chain_id\", str(chain['mainnet_chain_id']) + \" as chain_id,\")\n",
    "                # query = query.replace(\"@chain_id@\", str(chain['mainnet_chain_id']))\n",
    "        query = query.replace(\"@name@\", chain['display_name'])\n",
    "        query = query.replace(\"@layer@\", chain['chain_layer'])\n",
    "        query = query.replace(\"@trailing_days@\", str(trailing_days))\n",
    "        # print(query)\n",
    "        try:\n",
    "                df = ch_client.query_df(query)\n",
    "                ch_dfs.append(df)\n",
    "        except:\n",
    "                print('unable to process ' + chain['blockchain'])\n",
    "if ch_dfs:\n",
    "    ch = pd.concat(ch_dfs)\n",
    "    ch['source'] = 'goldsky'\n",
    "    ch['dt'] = pd.to_datetime(ch['dt']).dt.tz_localize(None)\n",
    "    ch = ch[col_list]\n",
    "else:\n",
    "    print(\"No data was retrieved from Goldsky. The resulting DataFrame will be empty.\")\n",
    "    ch = pd.DataFrame(columns=col_list)"
   ]
  },
  {
   "cell_type": "code",
   "execution_count": 8,
   "metadata": {},
   "outputs": [
    {
     "name": "stdout",
     "output_type": "stream",
     "text": [
      "5112.0,360.0,255.0,690.0,957.0,34443.0,7777777.0,254.0,6805.0,8453.0,1135.0,8008.0,2702128.0,7560.0,252.0,185.0,60808.0,1750.0,10.0,291.0\n"
     ]
    }
   ],
   "source": [
    "# Get Chains we already have data for & don't need to run in Dune\n",
    "dataframes = [ch]#, flip]\n",
    "\n",
    "chain_ids_string = ops.get_unique_chain_ids_from_dfs(dataframes)"
   ]
  },
  {
   "cell_type": "code",
   "execution_count": 9,
   "metadata": {
    "metadata": {}
   },
   "outputs": [
    {
     "name": "stdout",
     "output_type": "stream",
     "text": [
      "     dune runs\n",
      "Results available at https://dune.com/queries/3740822?trailing_days=90&list_chain_ids=5112.0%2C360.0%2C255.0%2C690.0%2C957.0%2C34443.0%2C7777777.0%2C254.0%2C6805.0%2C8453.0%2C1135.0%2C8008.0%2C2702128.0%2C7560.0%2C252.0%2C185.0%2C60808.0%2C1750.0%2C10.0%2C291.0\n",
      "getting latest result\n"
     ]
    },
    {
     "name": "stderr",
     "output_type": "stream",
     "text": [
      "2024-10-03 11:27:51,339 ERROR dune_client.models Can't build ResultsResponse from {'error': 'not found: No execution found for the latest version of the given query'} due to KeyError: 'execution_id'\n",
      "2024-10-03 11:27:51,340 INFO dune_client.api.base executing 3740822 on large cluster\n",
      "2024-10-03 11:27:51,667 INFO dune_client.api.base waiting for query execution 01J99FX7M40CZPEJMPMC78JRCC to complete: ExecutionState.PENDING (queue position: 1)\n",
      "2024-10-03 11:27:52,832 INFO dune_client.api.base waiting for query execution 01J99FX7M40CZPEJMPMC78JRCC to complete: ExecutionState.PENDING (queue position: 1)\n",
      "2024-10-03 11:27:53,994 INFO dune_client.api.base waiting for query execution 01J99FX7M40CZPEJMPMC78JRCC to complete: ExecutionState.PENDING (queue position: 1)\n",
      "2024-10-03 11:27:55,158 INFO dune_client.api.base waiting for query execution 01J99FX7M40CZPEJMPMC78JRCC to complete: ExecutionState.PENDING (queue position: 1)\n",
      "2024-10-03 11:27:56,324 INFO dune_client.api.base waiting for query execution 01J99FX7M40CZPEJMPMC78JRCC to complete: ExecutionState.PENDING (queue position: 1)\n",
      "2024-10-03 11:27:57,518 INFO dune_client.api.base waiting for query execution 01J99FX7M40CZPEJMPMC78JRCC to complete: ExecutionState.PENDING (queue position: 1)\n",
      "2024-10-03 11:27:58,721 INFO dune_client.api.base waiting for query execution 01J99FX7M40CZPEJMPMC78JRCC to complete: ExecutionState.PENDING (queue position: 1)\n",
      "2024-10-03 11:27:59,919 INFO dune_client.api.base waiting for query execution 01J99FX7M40CZPEJMPMC78JRCC to complete: ExecutionState.PENDING (queue position: 1)\n",
      "2024-10-03 11:28:01,084 ERROR dune_client.api.base ExecutionState.FAILED: execution_id=01J99FX7M40CZPEJMPMC78JRCC, query_id=3740822, times=TimeData(submitted_at=datetime.datetime(2024, 10, 3, 15, 27, 51, 428629, tzinfo=tzutc()), execution_started_at=None, execution_ended_at=None, expires_at=datetime.datetime(2025, 1, 1, 15, 27, 59, 986810, tzinfo=tzutc()), cancelled_at=None)\n"
     ]
    },
    {
     "ename": "QueryFailed",
     "evalue": "Error data: None",
     "output_type": "error",
     "traceback": [
      "\u001b[0;31m---------------------------------------------------------------------------\u001b[0m",
      "\u001b[0;31mQueryFailed\u001b[0m                               Traceback (most recent call last)",
      "Cell \u001b[0;32mIn[9], line 6\u001b[0m\n\u001b[1;32m      3\u001b[0m days_param \u001b[38;5;241m=\u001b[39m d\u001b[38;5;241m.\u001b[39mgenerate_query_parameter(\u001b[38;5;28minput\u001b[39m\u001b[38;5;241m=\u001b[39mtrailing_days,field_name\u001b[38;5;241m=\u001b[39m\u001b[38;5;124m'\u001b[39m\u001b[38;5;124mtrailing_days\u001b[39m\u001b[38;5;124m'\u001b[39m,dtype\u001b[38;5;241m=\u001b[39m\u001b[38;5;124m'\u001b[39m\u001b[38;5;124mnumber\u001b[39m\u001b[38;5;124m'\u001b[39m)\n\u001b[1;32m      4\u001b[0m chain_ids_param \u001b[38;5;241m=\u001b[39m d\u001b[38;5;241m.\u001b[39mgenerate_query_parameter(\u001b[38;5;28minput\u001b[39m\u001b[38;5;241m=\u001b[39mchain_ids_string,field_name\u001b[38;5;241m=\u001b[39m\u001b[38;5;124m'\u001b[39m\u001b[38;5;124mlist_chain_ids\u001b[39m\u001b[38;5;124m'\u001b[39m,dtype\u001b[38;5;241m=\u001b[39m\u001b[38;5;124m'\u001b[39m\u001b[38;5;124mtext\u001b[39m\u001b[38;5;124m'\u001b[39m)\n\u001b[0;32m----> 6\u001b[0m dune_df \u001b[38;5;241m=\u001b[39m \u001b[43md\u001b[49m\u001b[38;5;241;43m.\u001b[39;49m\u001b[43mget_dune_data\u001b[49m\u001b[43m(\u001b[49m\u001b[43mquery_id\u001b[49m\u001b[43m \u001b[49m\u001b[38;5;241;43m=\u001b[39;49m\u001b[43m \u001b[49m\u001b[38;5;241;43m3740822\u001b[39;49m\u001b[43m,\u001b[49m\u001b[43m \u001b[49m\u001b[38;5;66;43;03m#https://dune.com/queries/3740822\u001b[39;49;00m\n\u001b[1;32m      7\u001b[0m \u001b[43m    \u001b[49m\u001b[43mname\u001b[49m\u001b[43m \u001b[49m\u001b[38;5;241;43m=\u001b[39;49m\u001b[43m \u001b[49m\u001b[38;5;124;43m\"\u001b[39;49m\u001b[38;5;124;43mdune_evms_qualified_txs\u001b[39;49m\u001b[38;5;124;43m\"\u001b[39;49m\u001b[43m,\u001b[49m\n\u001b[1;32m      8\u001b[0m \u001b[43m    \u001b[49m\u001b[43mpath\u001b[49m\u001b[43m \u001b[49m\u001b[38;5;241;43m=\u001b[39;49m\u001b[43m \u001b[49m\u001b[38;5;124;43m\"\u001b[39;49m\u001b[38;5;124;43moutputs\u001b[39;49m\u001b[38;5;124;43m\"\u001b[39;49m\u001b[43m,\u001b[49m\n\u001b[1;32m      9\u001b[0m \u001b[43m    \u001b[49m\u001b[43mperformance\u001b[49m\u001b[38;5;241;43m=\u001b[39;49m\u001b[38;5;124;43m\"\u001b[39;49m\u001b[38;5;124;43mlarge\u001b[39;49m\u001b[38;5;124;43m\"\u001b[39;49m\u001b[43m,\u001b[49m\n\u001b[1;32m     10\u001b[0m \u001b[43m    \u001b[49m\u001b[43mparams\u001b[49m\u001b[43m \u001b[49m\u001b[38;5;241;43m=\u001b[39;49m\u001b[43m \u001b[49m\u001b[43m[\u001b[49m\u001b[43mdays_param\u001b[49m\u001b[43m,\u001b[49m\u001b[43mchain_ids_param\u001b[49m\u001b[43m]\u001b[49m\u001b[43m,\u001b[49m\n\u001b[1;32m     11\u001b[0m \u001b[43m    \u001b[49m\u001b[43mnum_hours_to_rerun\u001b[49m\u001b[38;5;241;43m=\u001b[39;49m\u001b[38;5;241;43m4\u001b[39;49m\n\u001b[1;32m     12\u001b[0m \u001b[43m)\u001b[49m\n",
      "File \u001b[0;32m~/Documents/GitHub/op-analytics/other_chains_tracking/../helper_functions/duneapi_utils.py:93\u001b[0m, in \u001b[0;36mget_dune_data\u001b[0;34m(query_id, name, path, params, num_hours_to_rerun, performance)\u001b[0m\n\u001b[1;32m     90\u001b[0m     \u001b[38;5;28;01mpass\u001b[39;00m\n\u001b[1;32m     92\u001b[0m \u001b[38;5;28;01mif\u001b[39;00m (time_difference \u001b[38;5;241m>\u001b[39m timedelta(hours\u001b[38;5;241m=\u001b[39mnum_hours_to_rerun)) \u001b[38;5;129;01mor\u001b[39;00m (to_rerun \u001b[38;5;241m==\u001b[39m \u001b[38;5;241m1\u001b[39m):\n\u001b[0;32m---> 93\u001b[0m     results \u001b[38;5;241m=\u001b[39m \u001b[43mdune\u001b[49m\u001b[38;5;241;43m.\u001b[39;49m\u001b[43mrefresh\u001b[49m\u001b[43m(\u001b[49m\u001b[43mquery\u001b[49m\u001b[43m,\u001b[49m\u001b[43m \u001b[49m\u001b[43mperformance\u001b[49m\u001b[43m \u001b[49m\u001b[38;5;241;43m=\u001b[39;49m\u001b[43m \u001b[49m\u001b[43mperformance\u001b[49m\u001b[43m)\u001b[49m\n\u001b[1;32m     94\u001b[0m     df \u001b[38;5;241m=\u001b[39m pd\u001b[38;5;241m.\u001b[39mDataFrame(results\u001b[38;5;241m.\u001b[39mresult\u001b[38;5;241m.\u001b[39mrows)\n\u001b[1;32m     95\u001b[0m \u001b[38;5;28;01melse\u001b[39;00m:\n",
      "File \u001b[0;32m~/opt/anaconda3/envs/gcp-env/lib/python3.12/site-packages/deprecated/classic.py:285\u001b[0m, in \u001b[0;36mdeprecated.<locals>.wrapper_function\u001b[0;34m(wrapped_, instance_, args_, kwargs_)\u001b[0m\n\u001b[1;32m    283\u001b[0m \u001b[38;5;28;01melse\u001b[39;00m:\n\u001b[1;32m    284\u001b[0m     warnings\u001b[38;5;241m.\u001b[39mwarn(msg, category\u001b[38;5;241m=\u001b[39mcategory, stacklevel\u001b[38;5;241m=\u001b[39m_routine_stacklevel)\n\u001b[0;32m--> 285\u001b[0m \u001b[38;5;28;01mreturn\u001b[39;00m \u001b[43mwrapped_\u001b[49m\u001b[43m(\u001b[49m\u001b[38;5;241;43m*\u001b[39;49m\u001b[43margs_\u001b[49m\u001b[43m,\u001b[49m\u001b[43m \u001b[49m\u001b[38;5;241;43m*\u001b[39;49m\u001b[38;5;241;43m*\u001b[39;49m\u001b[43mkwargs_\u001b[49m\u001b[43m)\u001b[49m\n",
      "File \u001b[0;32m~/opt/anaconda3/envs/gcp-env/lib/python3.12/site-packages/dune_client/api/extensions.py:366\u001b[0m, in \u001b[0;36mExtendedAPI.refresh\u001b[0;34m(self, query, ping_frequency, performance)\u001b[0m\n\u001b[1;32m    354\u001b[0m \u001b[38;5;129m@deprecated\u001b[39m(version\u001b[38;5;241m=\u001b[39m\u001b[38;5;124m\"\u001b[39m\u001b[38;5;124m1.2.1\u001b[39m\u001b[38;5;124m\"\u001b[39m, reason\u001b[38;5;241m=\u001b[39m\u001b[38;5;124m\"\u001b[39m\u001b[38;5;124mPlease use run_query\u001b[39m\u001b[38;5;124m\"\u001b[39m)\n\u001b[1;32m    355\u001b[0m \u001b[38;5;28;01mdef\u001b[39;00m \u001b[38;5;21mrefresh\u001b[39m(\n\u001b[1;32m    356\u001b[0m     \u001b[38;5;28mself\u001b[39m,\n\u001b[0;32m   (...)\u001b[0m\n\u001b[1;32m    359\u001b[0m     performance: Optional[\u001b[38;5;28mstr\u001b[39m] \u001b[38;5;241m=\u001b[39m \u001b[38;5;28;01mNone\u001b[39;00m,\n\u001b[1;32m    360\u001b[0m ) \u001b[38;5;241m-\u001b[39m\u001b[38;5;241m>\u001b[39m ResultsResponse:\n\u001b[1;32m    361\u001b[0m \u001b[38;5;250m    \u001b[39m\u001b[38;5;124;03m\"\"\"\u001b[39;00m\n\u001b[1;32m    362\u001b[0m \u001b[38;5;124;03m    Executes a Dune `query`, waits until execution completes,\u001b[39;00m\n\u001b[1;32m    363\u001b[0m \u001b[38;5;124;03m    fetches and returns the results.\u001b[39;00m\n\u001b[1;32m    364\u001b[0m \u001b[38;5;124;03m    Sleeps `ping_frequency` seconds between each status request.\u001b[39;00m\n\u001b[1;32m    365\u001b[0m \u001b[38;5;124;03m    \"\"\"\u001b[39;00m\n\u001b[0;32m--> 366\u001b[0m     \u001b[38;5;28;01mreturn\u001b[39;00m \u001b[38;5;28;43mself\u001b[39;49m\u001b[38;5;241;43m.\u001b[39;49m\u001b[43mrun_query\u001b[49m\u001b[43m(\u001b[49m\u001b[43mquery\u001b[49m\u001b[43m,\u001b[49m\u001b[43m \u001b[49m\u001b[43mping_frequency\u001b[49m\u001b[43m,\u001b[49m\u001b[43m \u001b[49m\u001b[43mperformance\u001b[49m\u001b[43m)\u001b[49m\n",
      "File \u001b[0;32m~/opt/anaconda3/envs/gcp-env/lib/python3.12/site-packages/dune_client/api/extensions.py:77\u001b[0m, in \u001b[0;36mExtendedAPI.run_query\u001b[0;34m(self, query, ping_frequency, performance, batch_size, columns, sample_count, filters, sort_by)\u001b[0m\n\u001b[1;32m     74\u001b[0m     limit \u001b[38;5;241m=\u001b[39m batch_size \u001b[38;5;129;01mor\u001b[39;00m MAX_NUM_ROWS_PER_BATCH\n\u001b[1;32m     76\u001b[0m \u001b[38;5;66;03m# pylint: disable=duplicate-code\u001b[39;00m\n\u001b[0;32m---> 77\u001b[0m job_id \u001b[38;5;241m=\u001b[39m \u001b[38;5;28;43mself\u001b[39;49m\u001b[38;5;241;43m.\u001b[39;49m\u001b[43m_refresh\u001b[49m\u001b[43m(\u001b[49m\u001b[43mquery\u001b[49m\u001b[43m,\u001b[49m\u001b[43m \u001b[49m\u001b[43mping_frequency\u001b[49m\u001b[43m,\u001b[49m\u001b[43m \u001b[49m\u001b[43mperformance\u001b[49m\u001b[43m)\u001b[49m\n\u001b[1;32m     78\u001b[0m \u001b[38;5;28;01mreturn\u001b[39;00m \u001b[38;5;28mself\u001b[39m\u001b[38;5;241m.\u001b[39m_fetch_entire_result(\n\u001b[1;32m     79\u001b[0m     \u001b[38;5;28mself\u001b[39m\u001b[38;5;241m.\u001b[39mget_execution_results(\n\u001b[1;32m     80\u001b[0m         job_id,\n\u001b[0;32m   (...)\u001b[0m\n\u001b[1;32m     86\u001b[0m     ),\n\u001b[1;32m     87\u001b[0m )\n",
      "File \u001b[0;32m~/opt/anaconda3/envs/gcp-env/lib/python3.12/site-packages/dune_client/api/extensions.py:421\u001b[0m, in \u001b[0;36mExtendedAPI._refresh\u001b[0;34m(self, query, ping_frequency, performance)\u001b[0m\n\u001b[1;32m    419\u001b[0m \u001b[38;5;28;01mif\u001b[39;00m status\u001b[38;5;241m.\u001b[39mstate \u001b[38;5;241m==\u001b[39m ExecutionState\u001b[38;5;241m.\u001b[39mFAILED:\n\u001b[1;32m    420\u001b[0m     \u001b[38;5;28mself\u001b[39m\u001b[38;5;241m.\u001b[39mlogger\u001b[38;5;241m.\u001b[39merror(status)\n\u001b[0;32m--> 421\u001b[0m     \u001b[38;5;28;01mraise\u001b[39;00m QueryFailed(\u001b[38;5;124mf\u001b[39m\u001b[38;5;124m\"\u001b[39m\u001b[38;5;124mError data: \u001b[39m\u001b[38;5;132;01m{\u001b[39;00mstatus\u001b[38;5;241m.\u001b[39merror\u001b[38;5;132;01m}\u001b[39;00m\u001b[38;5;124m\"\u001b[39m)\n\u001b[1;32m    423\u001b[0m \u001b[38;5;28;01mreturn\u001b[39;00m job_id\n",
      "\u001b[0;31mQueryFailed\u001b[0m: Error data: None"
     ]
    }
   ],
   "source": [
    "# Run Dune\n",
    "print('     dune runs')\n",
    "days_param = d.generate_query_parameter(input=trailing_days,field_name='trailing_days',dtype='number')\n",
    "chain_ids_param = d.generate_query_parameter(input=chain_ids_string,field_name='list_chain_ids',dtype='text')\n",
    "\n",
    "dune_df = d.get_dune_data(query_id = 3740822, #https://dune.com/queries/3740822\n",
    "    name = \"dune_evms_qualified_txs\",\n",
    "    path = \"outputs\",\n",
    "    performance=\"large\",\n",
    "    params = [days_param,chain_ids_param],\n",
    "    num_hours_to_rerun=4\n",
    ")"
   ]
  },
  {
   "cell_type": "code",
   "execution_count": null,
   "metadata": {},
   "outputs": [],
   "source": [
    "if not dune_df.empty:\n",
    "    dune_df['source'] = 'dune'\n",
    "    dune_df['dt'] = pd.to_datetime(dune_df['dt']).dt.tz_localize(None)\n",
    "    dune_df['chain_id'] = dune_df['chain_id'].astype(str)\n",
    "    dune_df = dune_df[col_list]\n",
    "else:\n",
    "    print(\"No data was retrieved from Dune. The resulting DataFrame will be empty.\")\n",
    "    dune_df = pd.DataFrame(columns=col_list)"
   ]
  },
  {
   "cell_type": "code",
   "execution_count": null,
   "metadata": {},
   "outputs": [],
   "source": [
    "print(f\"ch shape: {ch.shape}\")\n",
    "# print(f\"flip shape: {flip.shape}\")\n",
    "print(f\"dune_df shape: {dune_df.shape}\")"
   ]
  },
  {
   "cell_type": "code",
   "execution_count": null,
   "metadata": {},
   "outputs": [],
   "source": [
    "# Convert chain_id and source to strings in both DataFrames\n",
    "ch['chain_id'] = ch['chain_id'].astype(str).fillna('na')\n",
    "ch['source'] = ch['source'].astype(str).fillna('na')\n",
    "# Apply ch datatypes to dunedf\n",
    "ch_dtypes = ch.dtypes.to_dict()\n",
    "\n",
    "# Now, apply these dtypes to dune_df\n",
    "for col, dtype in ch_dtypes.items():\n",
    "    dune_df[col] = dune_df[col].astype(dtype)\n",
    "\n",
    "print(\"ch columns:\", ch.columns)\n",
    "print(\"dune_df columns:\", dune_df.columns)\n",
    "\n",
    "print(\"ch dtypes:\", ch.dtypes)\n",
    "print(\"dune_df dtypes:\", dune_df.dtypes)"
   ]
  },
  {
   "cell_type": "code",
   "execution_count": null,
   "metadata": {
    "metadata": {}
   },
   "outputs": [],
   "source": [
    "# Combine dfs\n",
    "# final_df = pd.concat([ch, dune_df])#, flip])\n",
    "final_df = pd.concat([ch, dune_df], axis=0, ignore_index=True)\n",
    "\n",
    "# Remove Dupes\n",
    "final_df = final_df.drop_duplicates(subset=['chain_id','dt'], keep='first')\n",
    "\n",
    "print(f\"final_df shape: {final_df.shape}\")"
   ]
  },
  {
   "cell_type": "code",
   "execution_count": null,
   "metadata": {},
   "outputs": [],
   "source": [
    "opstack_metadata = pd.read_csv('../op_chains_tracking/outputs/chain_metadata.csv')\n",
    "\n",
    "opstack_metadata['chain_id'] = opstack_metadata['mainnet_chain_id'].astype(str)\n",
    "\n",
    "meta_cols = ['is_op_chain','op_based_version', 'chain_id', 'alignment','chain_name', 'display_name']\n",
    "\n",
    "# print(\"Columns in opstack_metadata:\", opstack_metadata.columns)\n",
    "# print(\"Columns in opstack_metadata[meta_cols]:\", opstack_metadata[meta_cols].columns)\n",
    "# print(\"Columns in final_df:\", final_df.columns)\n"
   ]
  },
  {
   "cell_type": "code",
   "execution_count": null,
   "metadata": {
    "metadata": {}
   },
   "outputs": [],
   "source": [
    "final_enriched_df = final_df.merge(opstack_metadata[meta_cols], on='chain_id', how = 'left')\n",
    "final_enriched_df['alignment'] = final_enriched_df['alignment'].fillna('Other EVMs')\n",
    "final_enriched_df['is_op_chain'] = final_enriched_df['is_op_chain'].fillna(False)\n",
    "final_enriched_df['display_name'] = final_enriched_df['display_name'].fillna(final_enriched_df['name'])\n",
    "\n",
    "final_enriched_df = final_enriched_df.drop(columns=['name'])"
   ]
  },
  {
   "cell_type": "code",
   "execution_count": null,
   "metadata": {
    "metadata": {}
   },
   "outputs": [],
   "source": [
    "final_enriched_df.sort_values(by=['dt','blockchain'], ascending =[False, False], inplace = True)\n",
    "\n",
    "final_enriched_df.to_csv('outputs/'+query_name+'.csv', index=False)"
   ]
  },
  {
   "cell_type": "code",
   "execution_count": null,
   "metadata": {},
   "outputs": [],
   "source": [
    "final_enriched_df['chain_id'] = final_enriched_df['chain_id'].astype('string').str.replace('.0', '', regex=False)\n",
    "final_enriched_df['num_raw_txs'] = final_enriched_df['num_raw_txs'].astype(int)\n",
    "final_enriched_df['num_success_txs'] = final_enriched_df['num_success_txs'].astype(int)\n",
    "final_enriched_df['num_qualified_txs'] = final_enriched_df['num_qualified_txs'].fillna(0)\n",
    "final_enriched_df['num_qualified_txs'] = final_enriched_df['num_qualified_txs'].astype(int)\n",
    "# final_enriched_df.dtypes"
   ]
  },
  {
   "cell_type": "code",
   "execution_count": null,
   "metadata": {},
   "outputs": [],
   "source": [
    "#BQ Upload\n",
    "bqu.append_and_upsert_df_to_bq_table(final_enriched_df, query_name, unique_keys = ['chain_id','dt'])"
   ]
  }
 ],
 "metadata": {
  "kernelspec": {
   "display_name": "new-env",
   "language": "python",
   "name": "python3"
  },
  "language_info": {
   "codemirror_mode": {
    "name": "ipython",
    "version": 3
   },
   "file_extension": ".py",
   "mimetype": "text/x-python",
   "name": "python",
   "nbconvert_exporter": "python",
   "pygments_lexer": "ipython3",
   "version": "3.12.3"
  }
 },
 "nbformat": 4,
 "nbformat_minor": 2
}

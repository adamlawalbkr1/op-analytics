{
 "cells": [
  {
   "cell_type": "code",
   "execution_count": 1,
   "metadata": {},
   "outputs": [],
   "source": [
    "# Generate static txt files for data points that we can reference elsewhere (i.e. Google Sheets)\n",
    "\n",
    "# Data Points: L1 Base Fee, Blob Base Fee, ETH/USD Conversion\n",
    "import requests\n",
    "import time\n",
    "from dotenv import load_dotenv\n",
    "load_dotenv()\n",
    "import os\n",
    "from datetime import datetime\n",
    "import pandas as pd\n",
    "\n",
    "import sys\n",
    "sys.path.append(\"../../helper_functions\")\n",
    "import google_bq_utils as bqu\n",
    "sys.path.pop()\n",
    "\n",
    "etherscan_api_key = os.environ.get('L1_ETHERSCAN_API')\n",
    "max_attempts = 3\n",
    "current_timestamp = datetime.now()"
   ]
  },
  {
   "cell_type": "code",
   "execution_count": 2,
   "metadata": {},
   "outputs": [
    {
     "name": "stdout",
     "output_type": "stream",
     "text": [
      "{'status': '1', 'message': 'OK', 'result': {'ethbtc': '0.041521163662808', 'ethbtc_timestamp': '1725652832', 'ethusd': '2221.81833130809', 'ethusd_timestamp': '1725652832'}}\n",
      "ETH Price in USD: 2221.81833130809\n"
     ]
    }
   ],
   "source": [
    "# Get ETH/USD\n",
    "api_url = f\"https://api.etherscan.io/api?module=stats&action=ethprice&apikey={etherscan_api_key}\"\n",
    "# Make the GET request\n",
    "for attempt in range(max_attempts):\n",
    "        try:\n",
    "                response = requests.get(api_url)\n",
    "                # Check if the request was successful\n",
    "                if response.status_code == 200:\n",
    "                        # Parse the JSON response\n",
    "                        data = response.json()\n",
    "                        # Assuming you want to print or use the ETH price in USD\n",
    "                        print(data)\n",
    "                        ethusd = data.get(\"result\", {}).get(\"ethusd\")\n",
    "                        if ethusd:\n",
    "                                print(f\"ETH Price in USD: {ethusd}\")\n",
    "                                break  # Exit the loop if the data is successfully fetched and valid\n",
    "                        else:\n",
    "                                raise ValueError(\"ETH price in USD not found in the response.\")\n",
    "\n",
    "                else:\n",
    "                        raise Exception(\"Request failed.\")\n",
    "        except Exception as e:\n",
    "                print(f\"Attempt {attempt + 1} failed with error: {e}\")\n",
    "                if attempt < max_attempts - 1:\n",
    "                        print(\"Retrying in 3 seconds...\")\n",
    "                        time.sleep(3)\n",
    "                else:\n",
    "                        print(\"Failed to fetch data after 3 attempts.\")"
   ]
  },
  {
   "cell_type": "code",
   "execution_count": 3,
   "metadata": {},
   "outputs": [
    {
     "name": "stdout",
     "output_type": "stream",
     "text": [
      "{'status': '1', 'message': 'OK', 'result': {'LastBlock': '20693800', 'SafeGasPrice': '3.861533156', 'ProposeGasPrice': '3.864982194', 'FastGasPrice': '4.173792214', 'suggestBaseFee': '3.861533156', 'gasUsedRatio': '0.593454266666667,0.4654783,0.248336133333333,0.720436666666667,0.736267933333333'}}\n",
      "Suggested Base Fee: 3.861533156\n"
     ]
    }
   ],
   "source": [
    "api_url_gas_oracle = f\"https://api.etherscan.io/api?module=gastracker&action=gasoracle&apikey={etherscan_api_key}\"\n",
    "for attempt in range(max_attempts):\n",
    "        try:\n",
    "                response_gas_oracle = requests.get(api_url_gas_oracle)\n",
    "                if response_gas_oracle.status_code == 200:\n",
    "                        # Parse the JSON response\n",
    "                        data_gas_oracle = response_gas_oracle.json()\n",
    "                        print(data_gas_oracle)\n",
    "                        # Extract the suggestBaseFee\n",
    "                        suggest_base_fee = data_gas_oracle.get(\"result\", {}).get(\"suggestBaseFee\")\n",
    "                        if suggest_base_fee:\n",
    "                                print(f\"Suggested Base Fee: {suggest_base_fee}\")\n",
    "                                break  # Exit the loop if the data is successfully fetched and valid\n",
    "                        else:\n",
    "                                raise ValueError(\"Suggested Base Fee not found in the response.\")\n",
    "                else:\n",
    "                        print(\"Failed to fetch data from Etherscan API for gas oracle.\")\n",
    "        except Exception as e:\n",
    "                print(f\"Attempt {attempt + 1} failed with error: {e}\")\n",
    "                if attempt < max_attempts - 1:\n",
    "                        print(\"Retrying in 3 seconds...\")\n",
    "                        time.sleep(3)\n",
    "                else:\n",
    "                        print(\"Failed to fetch data after 3 attempts.\")"
   ]
  },
  {
   "cell_type": "code",
   "execution_count": 4,
   "metadata": {},
   "outputs": [],
   "source": [
    "def get_blob_base_fee_per_gas(api_url):\n",
    "    for attempt in range(max_attempts):\n",
    "        try:\n",
    "            # Send a GET request to the API\n",
    "            response = requests.get(api_url)\n",
    "            \n",
    "            # Check if the request was successful\n",
    "            if response.status_code == 200:\n",
    "                data = response.json()\n",
    "                \n",
    "                # Ensure the response is for the Ethereum main network\n",
    "                if data.get('system') == 'ethereum' and data.get('network') == 'main':\n",
    "                    # Extract the blobBaseFeePerGas from the first block price object\n",
    "                    blob_base_fee_per_gas = data['blockPrices'][0].get('blobBaseFeePerGas', None)\n",
    "                    \n",
    "                    if blob_base_fee_per_gas is not None:\n",
    "                        # Convert scientific notation to decimal\n",
    "                        blob_base_fee_per_gas_decimal = \"{:.10f}\".format(blob_base_fee_per_gas)\n",
    "                        return blob_base_fee_per_gas_decimal\n",
    "                    else:\n",
    "                        raise ValueError(\"blobBaseFeePerGas not found.\")\n",
    "                else:\n",
    "                    raise ValueError(\"blobBaseFeePerGas not found.\")\n",
    "            else:\n",
    "                raise ValueError(\"blobBaseFeePerGas not found.\")\n",
    "            \n",
    "        except Exception as e:\n",
    "                print(f\"Attempt {attempt + 1} failed with error: {e}\")\n",
    "                if attempt < max_attempts - 1:\n",
    "                        print(\"Retrying in 3 seconds...\")\n",
    "                        time.sleep(3)\n",
    "                else:\n",
    "                        print(\"Failed to fetch data after 3 attempts.\")\n",
    "\n",
    "# API URL\n",
    "api_url = 'https://api.blocknative.com/gasprices/blockprices'\n",
    "\n",
    "# Call the function and print the result\n",
    "blob_base_fee  = get_blob_base_fee_per_gas(api_url)"
   ]
  },
  {
   "cell_type": "code",
   "execution_count": 5,
   "metadata": {},
   "outputs": [],
   "source": [
    "#Write to Endpoints\n",
    "with open(f\"outputs/ethusd.txt\", 'w') as file:\n",
    "        file.write(ethusd)\n",
    "with open(f\"outputs/suggest_base_fee.txt\", 'w') as file:\n",
    "        file.write(suggest_base_fee)\n",
    "with open(f\"outputs/blob_base_fee.txt\", 'w') as file:\n",
    "        file.write(blob_base_fee)"
   ]
  },
  {
   "cell_type": "code",
   "execution_count": 6,
   "metadata": {},
   "outputs": [
    {
     "name": "stdout",
     "output_type": "stream",
     "text": [
      "Start Writing rpc_table_uploads.market_data\n",
      "Data loaded successfully to rpc_table_uploads.market_data\n"
     ]
    }
   ],
   "source": [
    "# Upload to BQ\n",
    "# Get the current timestamp\n",
    "# Create a dictionary with your data\n",
    "data = {\n",
    "    'timestamp': [current_timestamp],\n",
    "    'eth_usd': [ethusd],\n",
    "    'l1_base_fee_gwei': [suggest_base_fee],\n",
    "    'blob_base_fee_gwei': [blob_base_fee]\n",
    "}\n",
    "\n",
    "# Create a DataFrame from the dictionary\n",
    "df = pd.DataFrame(data)\n",
    "table_name = 'market_data'\n",
    "dataset_name = 'rpc_table_uploads'\n",
    "# bqu.write_df_to_bq_table(df, table_id = table_name, dataset_id = 'rpc_table_uploads', write_mode = 'append')"
   ]
  }
 ],
 "metadata": {
  "kernelspec": {
   "display_name": "new-env",
   "language": "python",
   "name": "python3"
  },
  "language_info": {
   "codemirror_mode": {
    "name": "ipython",
    "version": 3
   },
   "file_extension": ".py",
   "mimetype": "text/x-python",
   "name": "python",
   "nbconvert_exporter": "python",
   "pygments_lexer": "ipython3",
   "version": "3.12.3"
  }
 },
 "nbformat": 4,
 "nbformat_minor": 2
}

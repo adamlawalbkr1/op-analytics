{
 "cells": [
  {
   "cell_type": "code",
   "execution_count": 1,
   "metadata": {},
   "outputs": [],
   "source": [
    "import chain as c\n",
    "import chain_economics_functions as cef"
   ]
  },
  {
   "cell_type": "code",
   "execution_count": 2,
   "metadata": {},
   "outputs": [
    {
     "name": "stdout",
     "output_type": "stream",
     "text": [
      "                                      Value\n",
      "Field                                      \n",
      "num_transactions               25000.000000\n",
      "l2_gas_per_tx                 350000.000000\n",
      "calldata_gas_used_per_tx        3000.000000\n",
      "compressedtxsize_per_tx         4088.000000\n",
      "l2_priorityfee_gwei                0.010000\n",
      "l1BaseFeeScalar                    0.010000\n",
      "l1BlobBaseFeeScalar                0.750000\n",
      "l2_basefee_gwei                    0.000001\n",
      "l1gas_basefee_gwei                30.000000\n",
      "l1blob_basefee_gwei               10.000000\n",
      "l2_gas_used                             NaN\n",
      "l2_execution_revenue_eth                NaN\n",
      "l2_execution_basefee_eth                NaN\n",
      "l2_execution_priorityfee_eth            NaN\n"
     ]
    }
   ],
   "source": [
    "new_chain = c.Chain(num_transactions = 25_000, l1_da_margin_pct = 10)\n",
    "\n",
    "print(new_chain)"
   ]
  }
 ],
 "metadata": {
  "kernelspec": {
   "display_name": "py10",
   "language": "python",
   "name": "python3"
  },
  "language_info": {
   "codemirror_mode": {
    "name": "ipython",
    "version": 3
   },
   "file_extension": ".py",
   "mimetype": "text/x-python",
   "name": "python",
   "nbconvert_exporter": "python",
   "pygments_lexer": "ipython3",
   "version": "3.10.8"
  }
 },
 "nbformat": 4,
 "nbformat_minor": 2
}

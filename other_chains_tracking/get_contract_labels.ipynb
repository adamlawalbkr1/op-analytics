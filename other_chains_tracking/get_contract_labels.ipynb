{
 "cells": [
  {
   "cell_type": "code",
   "execution_count": null,
   "metadata": {},
   "outputs": [],
   "source": [
    "print('start contract labels')\n",
    "import sys\n",
    "sys.path.append(\"../helper_functions\")\n",
    "import google_bq_utils as bqu\n",
    "import clickhouse_utils as ch\n",
    "sys.path.pop()\n",
    "\n",
    "import numpy as np\n",
    "import pandas as pd\n",
    "import time\n",
    "import requests as r"
   ]
  },
  {
   "cell_type": "code",
   "execution_count": null,
   "metadata": {},
   "outputs": [],
   "source": [
    "api_configs = {\n",
    "    'old_gtp': {\n",
    "        'url': 'https://api.growthepie.xyz/v1/contracts.json',\n",
    "        'table_name': 'contract_labels_growthepie'\n",
    "    },\n",
    "    'oli_gtp': {\n",
    "        'url': 'https://api.growthepie.xyz/test/oli_labels.json',\n",
    "        'table_name': 'oli_contract_labels_growthepie'\n",
    "    },\n",
    "    'oss': {\n",
    "        'url': 'https://api.growthepie.xyz/test/oss_projects.json',\n",
    "        'table_name': 'oss_project_labels_growthepie'\n",
    "    }\n",
    "}"
   ]
  },
  {
   "cell_type": "code",
   "execution_count": null,
   "metadata": {},
   "outputs": [],
   "source": [
    "def fetch_and_process_data(url):\n",
    "    response = r.get(url)\n",
    "    data = response.json()\n",
    "    df = pd.DataFrame(data)\n",
    "    if 'address' in df.columns:\n",
    "        df['address_original'] = df['address']\n",
    "        df['address'] = df['address'].str.lower()\n",
    "\n",
    "    # If 'is_factory_contract' exists, fill nulls with 'false'\n",
    "    if 'is_factory_contract' in df.columns:\n",
    "        df['is_factory_contract'] = df['is_factory_contract'].fillna('false')\n",
    "\n",
    "    # Convert all object columns to strings\n",
    "    object_columns = df.select_dtypes(include=['object']).columns\n",
    "    df[object_columns] = df[object_columns].astype(str)\n",
    "    return df\n",
    "\n",
    "# Iterate through the configurations\n",
    "for config_name, config in api_configs.items():\n",
    "    df = fetch_and_process_data(config['url'])\n",
    "    # You can now use df and config['table_name'] as needed\n",
    "    print(f\"Processed data for {config_name}:\")\n",
    "    print(f\"Table name: {config['table_name']}\")\n",
    "    ch.write_df_to_clickhouse(df, config['table_name'], if_exists='replace')\n",
    "    print('clickhouse complete')\n",
    "    bqu.write_df_to_bq_table(df, config['table_name'])\n",
    "    print('bq complete')\n",
    "    print(f\"Table name: {config['table_name']}\")\n",
    "    print(f\"Number of rows: {len(df)}\")\n",
    "    print(\"---\")"
   ]
  }
 ],
 "metadata": {
  "kernelspec": {
   "display_name": "gcp-env",
   "language": "python",
   "name": "python3"
  },
  "language_info": {
   "codemirror_mode": {
    "name": "ipython",
    "version": 3
   },
   "file_extension": ".py",
   "mimetype": "text/x-python",
   "name": "python",
   "nbconvert_exporter": "python",
   "pygments_lexer": "ipython3",
   "version": "3.10.8"
  }
 },
 "nbformat": 4,
 "nbformat_minor": 2
}

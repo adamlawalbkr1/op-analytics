{
 "cells": [
  {
   "cell_type": "code",
   "execution_count": 10,
   "metadata": {},
   "outputs": [
    {
     "data": {
      "text/plain": [
       "'../helper_functions'"
      ]
     },
     "execution_count": 10,
     "metadata": {},
     "output_type": "execute_result"
    }
   ],
   "source": [
    "import dotenv\n",
    "import os\n",
    "dotenv.load_dotenv()\n",
    "import csv\n",
    "import json\n",
    "import requests\n",
    "import time\n",
    "import pandas as pd\n",
    "from datetime import datetime\n",
    "from typing import Dict, List, Tuple\n",
    "from urllib.parse import urlencode\n",
    "import sys\n",
    "sys.path.append(\"../helper_functions\")\n",
    "import duneapi_utils as d\n",
    "import google_bq_utils as bqu\n",
    "import clickhouse_utils as ch\n",
    "sys.path.pop()"
   ]
  },
  {
   "cell_type": "code",
   "execution_count": 11,
   "metadata": {},
   "outputs": [],
   "source": [
    "APIS = {\n",
    "    \"ethereum\": {\n",
    "        \"url\": \"https://api.etherscan.io/api\",\n",
    "        \"key\": os.environ[\"L1_ETHERSCAN_API\"]\n",
    "    },\n",
    "    \"base\": {\n",
    "        \"url\": \"https://api.basescan.org/api\",\n",
    "        \"key\": os.environ[\"BASESCAN_API\"]\n",
    "    },\n",
    "    \"op\": {\n",
    "        \"url\": \"https://api-optimistic.etherscan.io/api\",\n",
    "        \"key\": os.environ[\"OP_ETHERSCAN_API\"]\n",
    "    }\n",
    "}"
   ]
  },
  {
   "cell_type": "code",
   "execution_count": 12,
   "metadata": {},
   "outputs": [],
   "source": [
    "def read_addresses_from_csv(filename: str) -> List[Tuple[str, str, str]]:\n",
    "    addresses = []\n",
    "    with open(filename, 'r') as csvfile:\n",
    "        reader = csv.reader(csvfile)\n",
    "        next(reader)  # Skip header\n",
    "        for row in reader:\n",
    "            chain, address, name = row\n",
    "            addresses.append((chain, address, name))\n",
    "    return addresses\n",
    "\n",
    "def get_balance(network: str, address: str) -> float:\n",
    "    params = {\n",
    "        \"module\": \"account\",\n",
    "        \"action\": \"balance\",\n",
    "        \"address\": address,\n",
    "        \"tag\": \"latest\",\n",
    "        \"apikey\": APIS[network][\"key\"]\n",
    "    }\n",
    "    \n",
    "    # Construct the full URL with parameters\n",
    "    full_url = f\"{APIS[network]['url']}?{urlencode(params)}\"\n",
    "    \n",
    "    # Print the full URL for debugging\n",
    "    # print(f\"Debug - API call URL: {full_url}\")\n",
    "\n",
    "    response = requests.get(APIS[network][\"url\"], params=params)\n",
    "    # print(response.json())\n",
    "    if response.status_code == 200:\n",
    "        result = response.json()\n",
    "        if result[\"status\"] == \"1\":\n",
    "            balance = int(result[\"result\"]) / 1e18  # Convert wei to ETH\n",
    "            return balance\n",
    "    return None\n",
    "\n",
    "def check_balances(addresses: List[Tuple[str, str, str]]) -> Dict[str, float]:\n",
    "    balances = {}\n",
    "    for chain, address, name in addresses:\n",
    "        balance = get_balance(chain, address)\n",
    "        print(balance)\n",
    "        if balance is not None:\n",
    "            balances[name] = {\"balance\": balance, \"address\": address}\n",
    "        else:\n",
    "            balances[name] = {\"balance\": None, \"address\": address}\n",
    "        time.sleep(0.1)\n",
    "    return balances\n",
    "\n",
    "def get_inflight_withdrawals():\n",
    "        wds = d.get_dune_data(query_id = 3939869, #https://dune.com/queries/3939869\n",
    "                name = \"l1_to_l2_inflight_withdrawals\",\n",
    "                path = \"outputs\",\n",
    "                performance=\"large\",\n",
    "                num_hours_to_rerun=12 #always rereun\n",
    "                )\n",
    "        wds_bal = wds['amount_eth'].sum()\n",
    "        return wds_bal"
   ]
  },
  {
   "cell_type": "code",
   "execution_count": 13,
   "metadata": {},
   "outputs": [
    {
     "name": "stdout",
     "output_type": "stream",
     "text": [
      "1572.4768197849344\n",
      "2870.2974616715424\n",
      "2534.0960646976373\n",
      "21.185463890234463\n",
      "300.3991134356917\n",
      "4.406328376826346\n",
      "309.78216569128017\n",
      "121.95248974677227\n"
     ]
    },
    {
     "name": "stderr",
     "output_type": "stream",
     "text": [
      "\u001b[32m2024-08-19 18:55:24.578\u001b[0m | \u001b[1mINFO    \u001b[0m | \u001b[36mduneapi_utils\u001b[0m:\u001b[36mget_dune_data\u001b[0m:\u001b[36m58\u001b[0m - \u001b[1mResults available at https://dune.com/queries/3939869\u001b[0m\n",
      "\u001b[32m2024-08-19 18:55:25.292\u001b[0m | \u001b[1mINFO    \u001b[0m | \u001b[36mduneapi_utils\u001b[0m:\u001b[36mget_dune_data\u001b[0m:\u001b[36m105\u001b[0m - \u001b[1m✨ Results saved as outputs/l1_to_l2_inflight_withdrawals.csv, with 30 rows and 18 columns.\u001b[0m\n"
     ]
    }
   ],
   "source": [
    "csv_filename = 'inputs/address_list.csv'  # Make sure this file exists in the same directory as your script\n",
    "addresses = read_addresses_from_csv(csv_filename)\n",
    "balances = check_balances(addresses)\n",
    "balances['l1_to_l2_inflight_withdrawals'] = {\"balance\": get_inflight_withdrawals(), \"address\": 'https://dune.com/embeds/3939869/6626683/'} "
   ]
  },
  {
   "cell_type": "code",
   "execution_count": 14,
   "metadata": {},
   "outputs": [
    {
     "name": "stdout",
     "output_type": "stream",
     "text": [
      "{\n",
      "  \"l1_revenue_wallet_1\": {\n",
      "    \"balance\": 1572.4768197849344,\n",
      "    \"address\": \"0xa3d596EAfaB6B13Ab18D40FaE1A962700C84ADEa\"\n",
      "  },\n",
      "  \"l1_revenue_wallet_2\": {\n",
      "    \"balance\": 2870.2974616715424,\n",
      "    \"address\": \"0x391716d440C151C42cdf1C95C1d83A5427Bca52C\"\n",
      "  },\n",
      "  \"base_fee_split\": {\n",
      "    \"balance\": 2534.0960646976373,\n",
      "    \"address\": \"0x9c3631dDE5c8316bE5B7554B0CcD2631C15a9A05\"\n",
      "  },\n",
      "  \"op_sequencer_fee_vault\": {\n",
      "    \"balance\": 21.185463890234463,\n",
      "    \"address\": \"0x4200000000000000000000000000000000000011\"\n",
      "  },\n",
      "  \"op_base_fee_vault\": {\n",
      "    \"balance\": 300.3991134356917,\n",
      "    \"address\": \"0x4200000000000000000000000000000000000019\"\n",
      "  },\n",
      "  \"op_l1fee_fee_vault\": {\n",
      "    \"balance\": 4.406328376826346,\n",
      "    \"address\": \"0x420000000000000000000000000000000000001A\"\n",
      "  },\n",
      "  \"l1_batch_submitter\": {\n",
      "    \"balance\": 309.78216569128017,\n",
      "    \"address\": \"0x6887246668a3b87F54DeB3b94Ba47a6f63F32985\"\n",
      "  },\n",
      "  \"l1_state_proposer\": {\n",
      "    \"balance\": 121.95248974677227,\n",
      "    \"address\": \"0x473300df21D047806A082244b417f96b32f13A33\"\n",
      "  },\n",
      "  \"l1_to_l2_inflight_withdrawals\": {\n",
      "    \"balance\": 7540.957068646794,\n",
      "    \"address\": \"https://dune.com/embeds/3939869/6626683/\"\n",
      "  }\n",
      "}\n"
     ]
    }
   ],
   "source": [
    "# Output balances as JSON\n",
    "json_txt = json.dumps(balances, indent=2)\n",
    "print(json_txt)\n",
    "# Create DataFrame\n",
    "current_time = datetime.now()\n",
    "df_data = []\n",
    "for name, data in balances.items():\n",
    "    df_data.append({\n",
    "        'dt': pd.Timestamp(current_time.date()),\n",
    "        'timestamp': pd.Timestamp(current_time.isoformat()),\n",
    "        'address_type': name,\n",
    "        'address': data['address'],\n",
    "        'balance': data['balance']\n",
    "    })\n",
    "\n",
    "df = pd.DataFrame(df_data)"
   ]
  },
  {
   "cell_type": "code",
   "execution_count": 15,
   "metadata": {},
   "outputs": [
    {
     "name": "stdout",
     "output_type": "stream",
     "text": [
      "JSON written\n",
      "CSV appended\n"
     ]
    }
   ],
   "source": [
    "table_name = 'op_collective_balances'\n",
    "# Write JSON to file\n",
    "with open(f'outputs/latest_{table_name}.json', 'w') as json_file:\n",
    "        json_file.write(json_txt)\n",
    "print(f\"JSON written\")\n",
    "\n",
    "# Append DataFrame to CSV\n",
    "csv_output_file = f'outputs/{table_name}_history.csv'\n",
    "df.to_csv(csv_output_file, mode='a', header=not pd.io.common.file_exists(csv_output_file), index=False)\n",
    "\n",
    "print(f\"CSV appended\")"
   ]
  },
  {
   "cell_type": "code",
   "execution_count": 16,
   "metadata": {},
   "outputs": [
    {
     "data": {
      "text/plain": [
       "dt              datetime64[ns]\n",
       "timestamp       datetime64[ns]\n",
       "address_type            object\n",
       "address                 object\n",
       "balance                float64\n",
       "dtype: object"
      ]
     },
     "execution_count": 16,
     "metadata": {},
     "output_type": "execute_result"
    }
   ],
   "source": [
    "df.dtypes"
   ]
  },
  {
   "cell_type": "code",
   "execution_count": 17,
   "metadata": {},
   "outputs": [
    {
     "name": "stdout",
     "output_type": "stream",
     "text": [
      "Start Writing api_table_uploads.daily_op_collective_balances\n",
      "Data loaded successfully to api_table_uploads.daily_op_collective_balances\n",
      "Table 'daily_op_collective_balances' created or already exists.\n",
      "Data appended to table 'daily_op_collective_balances' successfully.\n"
     ]
    }
   ],
   "source": [
    "upload_table = f'daily_{table_name}'\n",
    "#BQ Upload\n",
    "bqu.append_and_upsert_df_to_bq_table(df, upload_table, unique_keys = ['dt','address_type','address'])\n",
    "#CH Upload\n",
    "ch.write_df_to_clickhouse(df, upload_table, if_exists='append')"
   ]
  }
 ],
 "metadata": {
  "kernelspec": {
   "display_name": "gcp-env",
   "language": "python",
   "name": "python3"
  },
  "language_info": {
   "codemirror_mode": {
    "name": "ipython",
    "version": 3
   },
   "file_extension": ".py",
   "mimetype": "text/x-python",
   "name": "python",
   "nbconvert_exporter": "python",
   "pygments_lexer": "ipython3",
   "version": "3.12.3"
  }
 },
 "nbformat": 4,
 "nbformat_minor": 2
}

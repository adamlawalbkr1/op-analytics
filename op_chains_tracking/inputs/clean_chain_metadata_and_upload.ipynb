{
 "cells": [
  {
   "cell_type": "code",
   "execution_count": 1,
   "metadata": {},
   "outputs": [
    {
     "data": {
      "text/plain": [
       "True"
      ]
     },
     "execution_count": 1,
     "metadata": {},
     "output_type": "execute_result"
    }
   ],
   "source": [
    "import pandas as pd\n",
    "import sys\n",
    "sys.path.append(\"../../helper_functions\")\n",
    "import opstack_metadata_utils as ops\n",
    "import duneapi_utils as d\n",
    "import google_bq_utils as bqu\n",
    "import clickhouse_utils as ch\n",
    "sys.path.pop()\n",
    "\n",
    "import dotenv\n",
    "import os\n",
    "dotenv.load_dotenv()"
   ]
  },
  {
   "cell_type": "code",
   "execution_count": 2,
   "metadata": {},
   "outputs": [],
   "source": [
    "# Read the CSV file\n",
    "df = pd.read_csv('chain_metadata_raw.csv')\n",
    "\n",
    "table_name = 'op_stack_chain_metadata'"
   ]
  },
  {
   "cell_type": "code",
   "execution_count": 3,
   "metadata": {},
   "outputs": [],
   "source": [
    "def convert_to_int_or_keep_string(value):\n",
    "    try:\n",
    "        # Try to convert to float first\n",
    "        float_value = float(value)\n",
    "        # Check if it's a whole number\n",
    "        if float_value.is_integer():\n",
    "            return int(float_value)  # Convert to int if it's a whole number\n",
    "        else:\n",
    "            return value  # Keep as original string if it has decimal places\n",
    "    except ValueError:\n",
    "        return value  # Keep as original string if it can't be converted to float"
   ]
  },
  {
   "cell_type": "code",
   "execution_count": 4,
   "metadata": {},
   "outputs": [
    {
     "name": "stderr",
     "output_type": "stream",
     "text": [
      "/var/folders/by/kltjc8yd0yz_7_wrtrzhrm9m0000gn/T/ipykernel_2659/1080609093.py:3: FutureWarning: DataFrame.applymap has been deprecated. Use DataFrame.map instead.\n",
      "  df = df.applymap(lambda x: x.strip() if isinstance(x, str) else x)\n",
      "/var/folders/by/kltjc8yd0yz_7_wrtrzhrm9m0000gn/T/ipykernel_2659/1080609093.py:5: UserWarning: Could not infer format, so each element will be parsed individually, falling back to `dateutil`. To ensure parsing is consistent and as-expected, please specify a format.\n",
      "  df['public_mainnet_launch_date'] = pd.to_datetime(df['public_mainnet_launch_date'], errors='coerce')\n",
      "/var/folders/by/kltjc8yd0yz_7_wrtrzhrm9m0000gn/T/ipykernel_2659/1080609093.py:6: UserWarning: Could not infer format, so each element will be parsed individually, falling back to `dateutil`. To ensure parsing is consistent and as-expected, please specify a format.\n",
      "  df['op_chain_start'] = pd.to_datetime(df['op_chain_start'], errors='coerce')\n"
     ]
    }
   ],
   "source": [
    "# Trim columns\n",
    "df.columns = df.columns.str.replace(\" \", \"\").str.strip()\n",
    "df = df.applymap(lambda x: x.strip() if isinstance(x, str) else x)\n",
    "# Datetime\n",
    "df['public_mainnet_launch_date'] = pd.to_datetime(df['public_mainnet_launch_date'], errors='coerce')\n",
    "df['op_chain_start'] = pd.to_datetime(df['op_chain_start'], errors='coerce')\n",
    "# ChainID\n",
    "# Apply the function to the column\n",
    "df['mainnet_chain_id'] = df['mainnet_chain_id'].apply(convert_to_int_or_keep_string)\n",
    "df['mainnet_chain_id'] = df['mainnet_chain_id'].astype('string')\n",
    "# df['mainnet_chain_id'] = int(df['mainnet_chain_id'])\n",
    "#Generate Alignment Column\n",
    "df = ops.generate_alignment_column(df)\n",
    "\n",
    "# Replace NaN values in object type columns with an empty string\n",
    "object_columns = df.select_dtypes(include=['object']).columns\n",
    "df[object_columns] = df[object_columns].fillna('')\n",
    "\n",
    "# Save the cleaned DataFrame to a new CSV file\n",
    "df.to_csv('../outputs/chain_metadata.csv', index=False)"
   ]
  },
  {
   "cell_type": "code",
   "execution_count": 5,
   "metadata": {},
   "outputs": [],
   "source": [
    "# df.dtypes"
   ]
  },
  {
   "cell_type": "code",
   "execution_count": 6,
   "metadata": {},
   "outputs": [
    {
     "data": {
      "text/html": [
       "<div>\n",
       "<style scoped>\n",
       "    .dataframe tbody tr th:only-of-type {\n",
       "        vertical-align: middle;\n",
       "    }\n",
       "\n",
       "    .dataframe tbody tr th {\n",
       "        vertical-align: top;\n",
       "    }\n",
       "\n",
       "    .dataframe thead th {\n",
       "        text-align: right;\n",
       "    }\n",
       "</style>\n",
       "<table border=\"1\" class=\"dataframe\">\n",
       "  <thead>\n",
       "    <tr style=\"text-align: right;\">\n",
       "      <th></th>\n",
       "      <th>chain_name</th>\n",
       "      <th>display_name</th>\n",
       "      <th>mainnet_chain_id</th>\n",
       "      <th>public_mainnet_launch_date</th>\n",
       "      <th>op_based_version</th>\n",
       "      <th>chain_type</th>\n",
       "      <th>op_chain_start</th>\n",
       "      <th>has_mods</th>\n",
       "      <th>raas_deployer</th>\n",
       "      <th>rpc_url</th>\n",
       "      <th>...</th>\n",
       "      <th>oso_schema</th>\n",
       "      <th>batchinbox_from</th>\n",
       "      <th>batchinbox_to</th>\n",
       "      <th>outputoracle_from</th>\n",
       "      <th>outputoracle_to_proxy</th>\n",
       "      <th>l1_standard_bridge</th>\n",
       "      <th>optimism_portal</th>\n",
       "      <th>dispute_game_factory</th>\n",
       "      <th>is_op_chain</th>\n",
       "      <th>alignment</th>\n",
       "    </tr>\n",
       "  </thead>\n",
       "  <tbody>\n",
       "    <tr>\n",
       "      <th>8</th>\n",
       "      <td>xterio</td>\n",
       "      <td>Xterio</td>\n",
       "      <td>2702128</td>\n",
       "      <td>2024-05-24</td>\n",
       "      <td>modern</td>\n",
       "      <td>Standard</td>\n",
       "      <td>2024-05-24</td>\n",
       "      <td>no</td>\n",
       "      <td>AltLayer</td>\n",
       "      <td>https://xterio-eth.alt.technology</td>\n",
       "      <td>...</td>\n",
       "      <td></td>\n",
       "      <td>0x7d6251D49A102a330CfB46d132982781620700Cb</td>\n",
       "      <td>0xfF00000000000000000000000000000000293b30</td>\n",
       "      <td>0x7d2f9b38866141Bf090DD670A826F27eA2408Ad4</td>\n",
       "      <td>0x5A0492D20D984eE904E46E6Ff24572bc755abb28</td>\n",
       "      <td></td>\n",
       "      <td></td>\n",
       "      <td></td>\n",
       "      <td>True</td>\n",
       "      <td>OP Chain</td>\n",
       "    </tr>\n",
       "  </tbody>\n",
       "</table>\n",
       "<p>1 rows × 36 columns</p>\n",
       "</div>"
      ],
      "text/plain": [
       "  chain_name display_name mainnet_chain_id public_mainnet_launch_date  \\\n",
       "8     xterio       Xterio          2702128                 2024-05-24   \n",
       "\n",
       "  op_based_version chain_type op_chain_start has_mods raas_deployer  \\\n",
       "8           modern   Standard     2024-05-24       no      AltLayer   \n",
       "\n",
       "                             rpc_url  ... oso_schema  \\\n",
       "8  https://xterio-eth.alt.technology  ...              \n",
       "\n",
       "                              batchinbox_from  \\\n",
       "8  0x7d6251D49A102a330CfB46d132982781620700Cb   \n",
       "\n",
       "                                batchinbox_to  \\\n",
       "8  0xfF00000000000000000000000000000000293b30   \n",
       "\n",
       "                            outputoracle_from  \\\n",
       "8  0x7d2f9b38866141Bf090DD670A826F27eA2408Ad4   \n",
       "\n",
       "                        outputoracle_to_proxy l1_standard_bridge  \\\n",
       "8  0x5A0492D20D984eE904E46E6Ff24572bc755abb28                      \n",
       "\n",
       "  optimism_portal dispute_game_factory  is_op_chain alignment  \n",
       "8                                              True  OP Chain  \n",
       "\n",
       "[1 rows x 36 columns]"
      ]
     },
     "execution_count": 6,
     "metadata": {},
     "output_type": "execute_result"
    }
   ],
   "source": [
    "# df[df['mainnet_chain_id'] =='2702128']"
   ]
  },
  {
   "cell_type": "code",
   "execution_count": null,
   "metadata": {},
   "outputs": [],
   "source": [
    "# Post to Dune API\n",
    "d.write_dune_api_from_pandas(df, table_name + '_info_tracking',\\\n",
    "                             'Basic Info & Metadata about OP Stack Chains, including forks')\n",
    "#BQ Upload\n",
    "bqu.write_df_to_bq_table(df, table_name)\n",
    "\n",
    "#CH Upload\n",
    "ch.write_df_to_clickhouse(df, table_name, if_exists='replace')"
   ]
  }
 ],
 "metadata": {
  "kernelspec": {
   "display_name": "py10",
   "language": "python",
   "name": "python3"
  },
  "language_info": {
   "codemirror_mode": {
    "name": "ipython",
    "version": 3
   },
   "file_extension": ".py",
   "mimetype": "text/x-python",
   "name": "python",
   "nbconvert_exporter": "python",
   "pygments_lexer": "ipython3",
   "version": "3.12.3"
  }
 },
 "nbformat": 4,
 "nbformat_minor": 2
}

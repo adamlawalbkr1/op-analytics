{
 "cells": [
  {
   "cell_type": "code",
   "execution_count": null,
   "metadata": {
    "metadata": {}
   },
   "outputs": [],
   "source": [
    "print('start ch uploads')\n",
    "#Clickhouse db w/ Goldsky\n",
    "# https://clickhouse.com/docs/en/integrations/python\n",
    "\n",
    "import requests as r\n",
    "import pandas as pd\n",
    "import clickhouse_connect as cc\n",
    "import os\n",
    "\n",
    "import sys\n",
    "sys.path.append(\"../helper_functions\")\n",
    "import duneapi_utils as d\n",
    "import pandas_utils as p\n",
    "import clickhouse_utils as ch\n",
    "import csv_utils as cu\n",
    "import google_bq_utils as bqu\n",
    "import opstack_metadata_utils as ops\n",
    "import goldsky_db_utils as gsb\n",
    "sys.path.pop()\n",
    "\n",
    "import time"
   ]
  },
  {
   "cell_type": "code",
   "execution_count": null,
   "metadata": {
    "metadata": {}
   },
   "outputs": [],
   "source": [
    "client = ch.connect_to_clickhouse_db() #Default is OPLabs DB\n",
    "# client.close()\n",
    "\n",
    "table_name = 'daily_aggegate_l2_chain_usage_goldsky'"
   ]
  },
  {
   "cell_type": "code",
   "execution_count": null,
   "metadata": {},
   "outputs": [],
   "source": [
    "# bqu.delete_bq_table('api_table_uploads',table_name)"
   ]
  },
  {
   "cell_type": "code",
   "execution_count": null,
   "metadata": {},
   "outputs": [],
   "source": [
    "days_chunk_size = 1 #3 #7 #30 #90\n",
    "max_execution_secs = 5000"
   ]
  },
  {
   "cell_type": "code",
   "execution_count": null,
   "metadata": {},
   "outputs": [],
   "source": [
    "# chain_mappings_list = [\n",
    "#     # {'schema_name': 'zora', 'display_name': 'Zora', 'has_blob_fields': True},\n",
    "#     # {'schema_name': 'pgn', 'display_name': 'Public Goods Network', 'has_blob_fields': True},\n",
    "#     # {'schema_name': 'base', 'display_name': 'Base', 'has_blob_fields': False},\n",
    "#     # {'schema_name': 'op', 'display_name': 'OP Mainnet', 'has_blob_fields': True},\n",
    "#     {'schema_name': 'mode', 'display_name': 'Mode', 'has_blob_fields': True},\n",
    "#     {'schema_name': 'metal', 'display_name': 'Metal', 'has_blob_fields': True},\n",
    "#     {'schema_name': 'fraxtal', 'display_name': 'Fraxtal', 'has_blob_fields': True},\n",
    "#     # {'schema_name': 'bob', 'display_name': 'BOB (Build on Bitcoin)', 'has_blob_fields': False},\n",
    "#     {'schema_name': 'cyber', 'display_name': 'Cyber', 'has_blob_fields': True},\n",
    "#     {'schema_name': 'mint', 'display_name': 'Mint', 'has_blob_fields': True},\n",
    "#     # Add more mappings as needed\n",
    "# ]\n",
    "# chain_mappings_dict = {item['schema_name']: item['display_name'] for item in chain_mappings_list}\n"
   ]
  },
  {
   "cell_type": "code",
   "execution_count": null,
   "metadata": {},
   "outputs": [],
   "source": [
    "# Get Chain List\n",
    "chain_configs = ops.get_superchain_metadata_by_data_source('oplabs') # OPLabs db\n",
    "\n",
    "# if we want to filter for backfills\n",
    "# chain_configs = chain_configs[chain_configs['blockchain'].isin(['swan','lisk'])]\n",
    "# chain_configs = chain_configs[chain_configs['blockchain'] == 'orderly']\n",
    "\n",
    "chain_configs"
   ]
  },
  {
   "cell_type": "code",
   "execution_count": null,
   "metadata": {},
   "outputs": [],
   "source": [
    "sql_directory = \"inputs/sql/\"\n",
    "\n",
    "query_names = [\n",
    "        # Must match the file name in inputs/sql\n",
    "        \"ch_template_alltime_chain_activity\"#_v2\"\n",
    "]"
   ]
  },
  {
   "cell_type": "code",
   "execution_count": null,
   "metadata": {},
   "outputs": [],
   "source": [
    "# Set the memory limit using the settings parameter\n",
    "settings = {\n",
    "    'max_memory_usage': 200000000000  # 200GB in bytes\n",
    "}\n"
   ]
  },
  {
   "cell_type": "code",
   "execution_count": null,
   "metadata": {},
   "outputs": [],
   "source": [
    "import pandas as pd\n",
    "from datetime import datetime, timedelta\n",
    "\n",
    "unified_dfs = []\n",
    "current_date = datetime.now().date()\n",
    "\n",
    "for qn in query_names:\n",
    "    for index, chain in chain_configs.iterrows():\n",
    "        chain_schema = chain['blockchain']\n",
    "        display_name = chain['display_name']\n",
    "        block_time_sec = chain['block_time_sec']\n",
    "        chain_id = chain['mainnet_chain_id']\n",
    "\n",
    "        # Get Max Date for this chain\n",
    "        sql = f'''\n",
    "        SELECT MAX(dt) AS max_dt\n",
    "        FROM `api_table_uploads.daily_aggegate_l2_chain_usage_goldsky`\n",
    "        WHERE (chain_id = '{chain_id}' AND chain_id IS NOT NULL)\n",
    "                OR (chain = '{display_name}')\n",
    "        '''\n",
    "        bq_df = bqu.run_query_to_df(sql)\n",
    "        query_start_date = bq_df['max_dt'].iloc[0]\n",
    "\n",
    "        if pd.isna(query_start_date):\n",
    "            # Get Start Date for the Chain\n",
    "            print(f'{chain_schema} is new, getting first block date')\n",
    "            firstblock_sql = f'''SELECT timestamp AS first_dt FROM {chain_schema}_blocks WHERE number = 1 AND is_deleted = 0'''\n",
    "            firstblock_df = client.query_df(firstblock_sql)\n",
    "            query_start_date = pd.to_datetime(firstblock_df['first_dt'].iloc[0]).date()\n",
    "        else:\n",
    "            print(f'{chain_schema} exists, latest aggregation date')\n",
    "            query_start_date = query_start_date.date() - timedelta(days=days_chunk_size - 1)\n",
    "\n",
    "        # Calculate the number of days to process\n",
    "        days_to_process = (current_date - query_start_date).days\n",
    "        print(f\"{chain_schema} - To process: {days_to_process} days, from {query_start_date} to {current_date} \\n\")\n",
    "        # Process data in chunks\n",
    "        for chunk_start in range(days_to_process, 0, -days_chunk_size):\n",
    "            chunk_end = max(chunk_start - days_chunk_size, 0)\n",
    "            \n",
    "            chunk_start_date = current_date - timedelta(days=chunk_start)\n",
    "            chunk_end_date = current_date - timedelta(days=chunk_end)\n",
    "            \n",
    "            # Read the SQL query from file\n",
    "            with open(os.path.join(sql_directory, f\"{qn}.sql\"), \"r\") as file:\n",
    "                query = file.read()\n",
    "            print(f\"{qn} - {chain_schema} - Processing {chunk_start_date} to {chunk_end_date}\")\n",
    "\n",
    "            # Pass in Params to the query\n",
    "            query = query.replace(\"@chain_db_name@\", chain_schema)\n",
    "            query = query.replace(\"@start_date@\", chunk_start_date.strftime('%Y-%m-%d'))\n",
    "            query = query.replace(\"@end_date@\", chunk_end_date.strftime('%Y-%m-%d'))\n",
    "            query = query.replace(\"@block_time_sec@\", str(block_time_sec))\n",
    "            query = query.replace(\"@max_execution_secs@\", str(max_execution_secs))\n",
    "\n",
    "            query = gsb.process_goldsky_sql(query)\n",
    "\n",
    "            # Save the query\n",
    "            output_folder = os.path.join(\"outputs\", \"sql\")\n",
    "            os.makedirs(output_folder, exist_ok=True)\n",
    "            filename = f\"{chain_schema}_query.sql\"\n",
    "            file_path = os.path.join(output_folder, filename)\n",
    "            with open(file_path, 'w') as file:\n",
    "                file.write(query)\n",
    "\n",
    "            # Execute the query\n",
    "            result_df = client.query_df(query, settings=settings)\n",
    "\n",
    "            if not result_df.empty:\n",
    "                result_df['chain_raw'] = result_df['chain']\n",
    "                result_df['chain'] = display_name\n",
    "                result_df['chain_id'] = result_df['chain_id'].astype('string')\n",
    "                bqu.append_and_upsert_df_to_bq_table(result_df, table_name, unique_keys=['dt', 'chain', 'network'])\n",
    "                unified_dfs.append(result_df)\n",
    "            else:\n",
    "                print('dataframe is empty')\n",
    "\n",
    "    write_df = pd.concat(unified_dfs)\n",
    "    # BQ Upload\n",
    "    bqu.append_and_upsert_df_to_bq_table(write_df, table_name, unique_keys=['dt', 'chain', 'network'])\n",
    "    #CSV Upload\n",
    "    csv_chain_name = display_name.lower().replace(' ', '_').replace('-', '_')\n",
    "    write_df.to_csv(f\"outputs/chain_data/{qn}_{csv_chain_name}.csv\", index=False)"
   ]
  },
  {
   "cell_type": "code",
   "execution_count": null,
   "metadata": {},
   "outputs": [],
   "source": [
    "# Copy to Dune\n",
    "print('upload bq to dune')\n",
    "sql = '''\n",
    "SELECT *\n",
    "FROM `api_table_uploads.daily_aggegate_l2_chain_usage_goldsky`\n",
    "'''\n",
    "bq_df = bqu.run_query_to_df(sql)\n",
    "\n",
    "dune_table_name = 'ch_template_alltime_chain_activity'\n",
    "d.write_dune_api_from_pandas(bq_df, dune_table_name,table_description = dune_table_name)"
   ]
  }
 ],
 "metadata": {
  "kernelspec": {
   "display_name": "new-env",
   "language": "python",
   "name": "python3"
  },
  "language_info": {
   "codemirror_mode": {
    "name": "ipython",
    "version": 3
   },
   "file_extension": ".py",
   "mimetype": "text/x-python",
   "name": "python",
   "nbconvert_exporter": "python",
   "pygments_lexer": "ipython3",
   "version": "3.12.3"
  },
  "orig_nbformat": 4
 },
 "nbformat": 4,
 "nbformat_minor": 2
}

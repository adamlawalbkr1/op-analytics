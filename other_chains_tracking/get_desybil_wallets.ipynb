{
 "cells": [
  {
   "cell_type": "code",
   "execution_count": 1,
   "metadata": {
    "metadata": {}
   },
   "outputs": [
    {
     "name": "stdout",
     "output_type": "stream",
     "text": [
      "get qualified txs\n"
     ]
    }
   ],
   "source": [
    "print('get qualified txs')\n",
    "import sys\n",
    "sys.path.append(\"../helper_functions\")\n",
    "import duneapi_utils as d\n",
    "# import flipside_utils as f\n",
    "# import clickhouse_utils as ch\n",
    "import csv_utils as cu\n",
    "import google_bq_utils as bqu\n",
    "sys.path.pop()\n",
    "\n",
    "import numpy as np\n",
    "import pandas as pd\n",
    "import os\n",
    "# import clickhouse_connect as cc"
   ]
  },
  {
   "cell_type": "code",
   "execution_count": 2,
   "metadata": {
    "metadata": {}
   },
   "outputs": [],
   "source": [
    "# ch_client = ch.connect_to_clickhouse_db() #Default is OPLabs DB\n",
    "\n",
    "query_name = 'daily_evms_desybilled_wallet_counts'\n",
    "\n",
    "trailing_pds = 180"
   ]
  },
  {
   "cell_type": "code",
   "execution_count": 3,
   "metadata": {
    "metadata": {}
   },
   "outputs": [],
   "source": [
    "# flipside_configs = [\n",
    "#         {'blockchain': 'blast', 'name': 'Blast', 'layer': 'L2', 'trailing_days': 365}\n",
    "# ]\n",
    "# clickhouse_configs = [\n",
    "#         {'blockchain': 'metal', 'name': 'Metal', 'layer': 'L2', 'trailing_days': 365},\n",
    "#         {'blockchain': 'mode', 'name': 'Mode', 'layer': 'L2', 'trailing_days': 365},\n",
    "#         {'blockchain': 'bob', 'name': 'BOB (Build on Bitcoin)', 'layer': 'L2', 'trailing_days': 365},\n",
    "#         {'blockchain': 'fraxtal', 'name': 'Fraxtal', 'layer': 'L2', 'trailing_days': 365},\n",
    "# ]"
   ]
  },
  {
   "cell_type": "code",
   "execution_count": 4,
   "metadata": {
    "metadata": {}
   },
   "outputs": [],
   "source": [
    "# # Run Flipside\n",
    "# print('     flipside runs')\n",
    "# flip_dfs = []\n",
    "# with open(os.path.join(\"inputs/sql/flipside_bychain.sql\"), \"r\") as file:\n",
    "#                         og_query = file.read()\n",
    "\n",
    "# for chain in flipside_configs:\n",
    "#         print(     'flipside: ' + chain['blockchain'])\n",
    "#         query = og_query\n",
    "#         #Pass in Params to the query\n",
    "#         query = query.replace(\"@blockchain@\", chain['blockchain'])\n",
    "#         query = query.replace(\"@name@\", chain['name'])\n",
    "#         query = query.replace(\"@layer@\", chain['layer'])\n",
    "#         query = query.replace(\"@trailing_days@\", str(chain['trailing_days']))\n",
    "        \n",
    "#         df = f.query_to_df(query)\n",
    "\n",
    "#         flip_dfs.append(df)\n",
    "\n",
    "# flip = pd.concat(flip_dfs)\n",
    "# flip['source'] = 'flipside'\n",
    "# flip['dt'] = pd.to_datetime(flip['dt']).dt.tz_localize(None)\n",
    "# flip = flip[['dt','blockchain','name','layer','num_qualified_txs','source']]\n"
   ]
  },
  {
   "cell_type": "code",
   "execution_count": 5,
   "metadata": {
    "metadata": {}
   },
   "outputs": [
    {
     "name": "stderr",
     "output_type": "stream",
     "text": [
      "\u001b[32m2024-06-02 17:46:35.350\u001b[0m | \u001b[1mINFO    \u001b[0m | \u001b[36mduneapi_utils\u001b[0m:\u001b[36mget_dune_data\u001b[0m:\u001b[36m44\u001b[0m - \u001b[1mResults available at https://dune.com/queries/3784159\u001b[0m\n"
     ]
    },
    {
     "name": "stdout",
     "output_type": "stream",
     "text": [
      "     dune runs\n"
     ]
    },
    {
     "name": "stderr",
     "output_type": "stream",
     "text": [
      "2024-06-02 17:46:36,018 INFO dune_client.base_client executing 3784159 on large cluster\n",
      "2024-06-02 17:46:36,896 INFO dune_client.base_client waiting for query execution 01HZDEPB1KNVA70FAYAMVZKM23 to complete: ExecutionState.PENDING (queue position: 1)\n",
      "2024-06-02 17:46:42,317 INFO dune_client.base_client waiting for query execution 01HZDEPB1KNVA70FAYAMVZKM23 to complete: ExecutionState.PENDING (queue position: 1)\n",
      "2024-06-02 17:46:47,802 INFO dune_client.base_client waiting for query execution 01HZDEPB1KNVA70FAYAMVZKM23 to complete: ExecutionState.EXECUTING\n",
      "2024-06-02 17:46:53,237 INFO dune_client.base_client waiting for query execution 01HZDEPB1KNVA70FAYAMVZKM23 to complete: ExecutionState.EXECUTING\n",
      "2024-06-02 17:46:58,674 INFO dune_client.base_client waiting for query execution 01HZDEPB1KNVA70FAYAMVZKM23 to complete: ExecutionState.EXECUTING\n",
      "2024-06-02 17:47:04,121 INFO dune_client.base_client waiting for query execution 01HZDEPB1KNVA70FAYAMVZKM23 to complete: ExecutionState.EXECUTING\n",
      "2024-06-02 17:47:09,578 INFO dune_client.base_client waiting for query execution 01HZDEPB1KNVA70FAYAMVZKM23 to complete: ExecutionState.EXECUTING\n",
      "2024-06-02 17:47:15,037 INFO dune_client.base_client waiting for query execution 01HZDEPB1KNVA70FAYAMVZKM23 to complete: ExecutionState.EXECUTING\n",
      "2024-06-02 17:47:20,527 INFO dune_client.base_client waiting for query execution 01HZDEPB1KNVA70FAYAMVZKM23 to complete: ExecutionState.EXECUTING\n",
      "2024-06-02 17:47:26,093 INFO dune_client.base_client waiting for query execution 01HZDEPB1KNVA70FAYAMVZKM23 to complete: ExecutionState.EXECUTING\n",
      "2024-06-02 17:47:31,619 INFO dune_client.base_client waiting for query execution 01HZDEPB1KNVA70FAYAMVZKM23 to complete: ExecutionState.EXECUTING\n",
      "2024-06-02 17:47:37,086 INFO dune_client.base_client waiting for query execution 01HZDEPB1KNVA70FAYAMVZKM23 to complete: ExecutionState.EXECUTING\n",
      "2024-06-02 17:47:42,535 INFO dune_client.base_client waiting for query execution 01HZDEPB1KNVA70FAYAMVZKM23 to complete: ExecutionState.EXECUTING\n",
      "2024-06-02 17:47:48,107 INFO dune_client.base_client waiting for query execution 01HZDEPB1KNVA70FAYAMVZKM23 to complete: ExecutionState.EXECUTING\n",
      "2024-06-02 17:47:53,555 INFO dune_client.base_client waiting for query execution 01HZDEPB1KNVA70FAYAMVZKM23 to complete: ExecutionState.EXECUTING\n",
      "2024-06-02 17:47:58,997 INFO dune_client.base_client waiting for query execution 01HZDEPB1KNVA70FAYAMVZKM23 to complete: ExecutionState.EXECUTING\n",
      "2024-06-02 17:48:04,460 INFO dune_client.base_client waiting for query execution 01HZDEPB1KNVA70FAYAMVZKM23 to complete: ExecutionState.EXECUTING\n",
      "2024-06-02 17:48:09,911 INFO dune_client.base_client waiting for query execution 01HZDEPB1KNVA70FAYAMVZKM23 to complete: ExecutionState.EXECUTING\n",
      "2024-06-02 17:48:15,393 INFO dune_client.base_client waiting for query execution 01HZDEPB1KNVA70FAYAMVZKM23 to complete: ExecutionState.EXECUTING\n",
      "2024-06-02 17:48:20,823 INFO dune_client.base_client waiting for query execution 01HZDEPB1KNVA70FAYAMVZKM23 to complete: ExecutionState.EXECUTING\n",
      "2024-06-02 17:48:26,327 INFO dune_client.base_client waiting for query execution 01HZDEPB1KNVA70FAYAMVZKM23 to complete: ExecutionState.EXECUTING\n",
      "2024-06-02 17:48:31,938 INFO dune_client.base_client waiting for query execution 01HZDEPB1KNVA70FAYAMVZKM23 to complete: ExecutionState.EXECUTING\n",
      "2024-06-02 17:48:37,390 INFO dune_client.base_client waiting for query execution 01HZDEPB1KNVA70FAYAMVZKM23 to complete: ExecutionState.EXECUTING\n",
      "2024-06-02 17:48:42,895 INFO dune_client.base_client waiting for query execution 01HZDEPB1KNVA70FAYAMVZKM23 to complete: ExecutionState.EXECUTING\n",
      "2024-06-02 17:48:48,370 INFO dune_client.base_client waiting for query execution 01HZDEPB1KNVA70FAYAMVZKM23 to complete: ExecutionState.EXECUTING\n",
      "2024-06-02 17:48:53,848 INFO dune_client.base_client waiting for query execution 01HZDEPB1KNVA70FAYAMVZKM23 to complete: ExecutionState.EXECUTING\n",
      "2024-06-02 17:48:59,407 INFO dune_client.base_client waiting for query execution 01HZDEPB1KNVA70FAYAMVZKM23 to complete: ExecutionState.EXECUTING\n",
      "2024-06-02 17:49:04,876 INFO dune_client.base_client waiting for query execution 01HZDEPB1KNVA70FAYAMVZKM23 to complete: ExecutionState.EXECUTING\n",
      "2024-06-02 17:49:10,303 INFO dune_client.base_client waiting for query execution 01HZDEPB1KNVA70FAYAMVZKM23 to complete: ExecutionState.EXECUTING\n",
      "2024-06-02 17:49:15,760 INFO dune_client.base_client waiting for query execution 01HZDEPB1KNVA70FAYAMVZKM23 to complete: ExecutionState.EXECUTING\n",
      "2024-06-02 17:49:21,350 INFO dune_client.base_client waiting for query execution 01HZDEPB1KNVA70FAYAMVZKM23 to complete: ExecutionState.EXECUTING\n",
      "2024-06-02 17:49:26,817 INFO dune_client.base_client waiting for query execution 01HZDEPB1KNVA70FAYAMVZKM23 to complete: ExecutionState.EXECUTING\n",
      "2024-06-02 17:49:32,281 INFO dune_client.base_client waiting for query execution 01HZDEPB1KNVA70FAYAMVZKM23 to complete: ExecutionState.EXECUTING\n",
      "2024-06-02 17:49:37,726 INFO dune_client.base_client waiting for query execution 01HZDEPB1KNVA70FAYAMVZKM23 to complete: ExecutionState.EXECUTING\n",
      "2024-06-02 17:49:43,366 INFO dune_client.base_client waiting for query execution 01HZDEPB1KNVA70FAYAMVZKM23 to complete: ExecutionState.EXECUTING\n",
      "2024-06-02 17:49:48,809 INFO dune_client.base_client waiting for query execution 01HZDEPB1KNVA70FAYAMVZKM23 to complete: ExecutionState.EXECUTING\n",
      "2024-06-02 17:49:54,232 INFO dune_client.base_client waiting for query execution 01HZDEPB1KNVA70FAYAMVZKM23 to complete: ExecutionState.EXECUTING\n",
      "2024-06-02 17:49:59,678 INFO dune_client.base_client waiting for query execution 01HZDEPB1KNVA70FAYAMVZKM23 to complete: ExecutionState.EXECUTING\n",
      "2024-06-02 17:50:05,124 INFO dune_client.base_client waiting for query execution 01HZDEPB1KNVA70FAYAMVZKM23 to complete: ExecutionState.EXECUTING\n",
      "2024-06-02 17:50:10,695 INFO dune_client.base_client waiting for query execution 01HZDEPB1KNVA70FAYAMVZKM23 to complete: ExecutionState.EXECUTING\n",
      "2024-06-02 17:50:16,228 INFO dune_client.base_client waiting for query execution 01HZDEPB1KNVA70FAYAMVZKM23 to complete: ExecutionState.EXECUTING\n",
      "2024-06-02 17:50:21,671 INFO dune_client.base_client waiting for query execution 01HZDEPB1KNVA70FAYAMVZKM23 to complete: ExecutionState.EXECUTING\n",
      "2024-06-02 17:50:27,301 INFO dune_client.base_client waiting for query execution 01HZDEPB1KNVA70FAYAMVZKM23 to complete: ExecutionState.EXECUTING\n",
      "2024-06-02 17:50:32,974 INFO dune_client.base_client waiting for query execution 01HZDEPB1KNVA70FAYAMVZKM23 to complete: ExecutionState.EXECUTING\n",
      "2024-06-02 17:50:38,443 INFO dune_client.base_client waiting for query execution 01HZDEPB1KNVA70FAYAMVZKM23 to complete: ExecutionState.EXECUTING\n",
      "2024-06-02 17:50:43,871 INFO dune_client.base_client waiting for query execution 01HZDEPB1KNVA70FAYAMVZKM23 to complete: ExecutionState.EXECUTING\n",
      "2024-06-02 17:50:49,403 INFO dune_client.base_client waiting for query execution 01HZDEPB1KNVA70FAYAMVZKM23 to complete: ExecutionState.EXECUTING\n",
      "2024-06-02 17:50:54,837 INFO dune_client.base_client waiting for query execution 01HZDEPB1KNVA70FAYAMVZKM23 to complete: ExecutionState.EXECUTING\n",
      "2024-06-02 17:51:00,286 INFO dune_client.base_client waiting for query execution 01HZDEPB1KNVA70FAYAMVZKM23 to complete: ExecutionState.EXECUTING\n",
      "2024-06-02 17:51:05,734 INFO dune_client.base_client waiting for query execution 01HZDEPB1KNVA70FAYAMVZKM23 to complete: ExecutionState.EXECUTING\n",
      "2024-06-02 17:51:11,239 INFO dune_client.base_client waiting for query execution 01HZDEPB1KNVA70FAYAMVZKM23 to complete: ExecutionState.EXECUTING\n",
      "2024-06-02 17:51:16,671 INFO dune_client.base_client waiting for query execution 01HZDEPB1KNVA70FAYAMVZKM23 to complete: ExecutionState.EXECUTING\n",
      "2024-06-02 17:51:22,133 INFO dune_client.base_client waiting for query execution 01HZDEPB1KNVA70FAYAMVZKM23 to complete: ExecutionState.EXECUTING\n",
      "2024-06-02 17:51:27,685 INFO dune_client.base_client waiting for query execution 01HZDEPB1KNVA70FAYAMVZKM23 to complete: ExecutionState.EXECUTING\n",
      "2024-06-02 17:51:33,162 INFO dune_client.base_client waiting for query execution 01HZDEPB1KNVA70FAYAMVZKM23 to complete: ExecutionState.EXECUTING\n",
      "2024-06-02 17:51:38,610 INFO dune_client.base_client waiting for query execution 01HZDEPB1KNVA70FAYAMVZKM23 to complete: ExecutionState.EXECUTING\n",
      "2024-06-02 17:51:44,094 INFO dune_client.base_client waiting for query execution 01HZDEPB1KNVA70FAYAMVZKM23 to complete: ExecutionState.EXECUTING\n",
      "2024-06-02 17:51:49,558 INFO dune_client.base_client waiting for query execution 01HZDEPB1KNVA70FAYAMVZKM23 to complete: ExecutionState.EXECUTING\n",
      "2024-06-02 17:51:55,064 INFO dune_client.base_client waiting for query execution 01HZDEPB1KNVA70FAYAMVZKM23 to complete: ExecutionState.EXECUTING\n",
      "2024-06-02 17:52:00,564 INFO dune_client.base_client waiting for query execution 01HZDEPB1KNVA70FAYAMVZKM23 to complete: ExecutionState.EXECUTING\n",
      "2024-06-02 17:52:06,077 INFO dune_client.base_client waiting for query execution 01HZDEPB1KNVA70FAYAMVZKM23 to complete: ExecutionState.EXECUTING\n",
      "2024-06-02 17:52:11,582 INFO dune_client.base_client waiting for query execution 01HZDEPB1KNVA70FAYAMVZKM23 to complete: ExecutionState.EXECUTING\n",
      "2024-06-02 17:52:17,094 INFO dune_client.base_client waiting for query execution 01HZDEPB1KNVA70FAYAMVZKM23 to complete: ExecutionState.EXECUTING\n",
      "2024-06-02 17:52:22,642 INFO dune_client.base_client waiting for query execution 01HZDEPB1KNVA70FAYAMVZKM23 to complete: ExecutionState.EXECUTING\n",
      "2024-06-02 17:52:28,143 INFO dune_client.base_client waiting for query execution 01HZDEPB1KNVA70FAYAMVZKM23 to complete: ExecutionState.EXECUTING\n",
      "2024-06-02 17:52:33,578 INFO dune_client.base_client waiting for query execution 01HZDEPB1KNVA70FAYAMVZKM23 to complete: ExecutionState.EXECUTING\n",
      "2024-06-02 17:52:38,995 INFO dune_client.base_client waiting for query execution 01HZDEPB1KNVA70FAYAMVZKM23 to complete: ExecutionState.EXECUTING\n",
      "2024-06-02 17:52:44,490 INFO dune_client.base_client waiting for query execution 01HZDEPB1KNVA70FAYAMVZKM23 to complete: ExecutionState.EXECUTING\n",
      "2024-06-02 17:52:49,990 INFO dune_client.base_client waiting for query execution 01HZDEPB1KNVA70FAYAMVZKM23 to complete: ExecutionState.EXECUTING\n",
      "2024-06-02 17:52:55,482 INFO dune_client.base_client waiting for query execution 01HZDEPB1KNVA70FAYAMVZKM23 to complete: ExecutionState.EXECUTING\n",
      "2024-06-02 17:53:00,976 INFO dune_client.base_client waiting for query execution 01HZDEPB1KNVA70FAYAMVZKM23 to complete: ExecutionState.EXECUTING\n",
      "2024-06-02 17:53:06,476 INFO dune_client.base_client waiting for query execution 01HZDEPB1KNVA70FAYAMVZKM23 to complete: ExecutionState.EXECUTING\n",
      "2024-06-02 17:53:11,958 INFO dune_client.base_client waiting for query execution 01HZDEPB1KNVA70FAYAMVZKM23 to complete: ExecutionState.EXECUTING\n",
      "2024-06-02 17:53:17,411 INFO dune_client.base_client waiting for query execution 01HZDEPB1KNVA70FAYAMVZKM23 to complete: ExecutionState.EXECUTING\n",
      "2024-06-02 17:53:22,849 INFO dune_client.base_client waiting for query execution 01HZDEPB1KNVA70FAYAMVZKM23 to complete: ExecutionState.EXECUTING\n",
      "2024-06-02 17:53:28,387 INFO dune_client.base_client waiting for query execution 01HZDEPB1KNVA70FAYAMVZKM23 to complete: ExecutionState.EXECUTING\n",
      "2024-06-02 17:53:33,828 INFO dune_client.base_client waiting for query execution 01HZDEPB1KNVA70FAYAMVZKM23 to complete: ExecutionState.EXECUTING\n",
      "2024-06-02 17:53:39,393 INFO dune_client.base_client waiting for query execution 01HZDEPB1KNVA70FAYAMVZKM23 to complete: ExecutionState.EXECUTING\n",
      "2024-06-02 17:53:44,813 INFO dune_client.base_client waiting for query execution 01HZDEPB1KNVA70FAYAMVZKM23 to complete: ExecutionState.EXECUTING\n",
      "2024-06-02 17:53:50,253 INFO dune_client.base_client waiting for query execution 01HZDEPB1KNVA70FAYAMVZKM23 to complete: ExecutionState.EXECUTING\n",
      "2024-06-02 17:53:55,711 INFO dune_client.base_client waiting for query execution 01HZDEPB1KNVA70FAYAMVZKM23 to complete: ExecutionState.EXECUTING\n",
      "2024-06-02 17:54:01,146 INFO dune_client.base_client waiting for query execution 01HZDEPB1KNVA70FAYAMVZKM23 to complete: ExecutionState.EXECUTING\n",
      "2024-06-02 17:54:06,597 INFO dune_client.base_client waiting for query execution 01HZDEPB1KNVA70FAYAMVZKM23 to complete: ExecutionState.EXECUTING\n",
      "2024-06-02 17:54:12,210 INFO dune_client.base_client waiting for query execution 01HZDEPB1KNVA70FAYAMVZKM23 to complete: ExecutionState.EXECUTING\n",
      "2024-06-02 17:54:17,686 INFO dune_client.base_client waiting for query execution 01HZDEPB1KNVA70FAYAMVZKM23 to complete: ExecutionState.EXECUTING\n",
      "2024-06-02 17:54:23,144 INFO dune_client.base_client waiting for query execution 01HZDEPB1KNVA70FAYAMVZKM23 to complete: ExecutionState.EXECUTING\n",
      "2024-06-02 17:54:28,596 INFO dune_client.base_client waiting for query execution 01HZDEPB1KNVA70FAYAMVZKM23 to complete: ExecutionState.EXECUTING\n",
      "2024-06-02 17:54:34,042 INFO dune_client.base_client waiting for query execution 01HZDEPB1KNVA70FAYAMVZKM23 to complete: ExecutionState.EXECUTING\n",
      "2024-06-02 17:54:39,552 INFO dune_client.base_client waiting for query execution 01HZDEPB1KNVA70FAYAMVZKM23 to complete: ExecutionState.EXECUTING\n",
      "2024-06-02 17:54:45,138 INFO dune_client.base_client waiting for query execution 01HZDEPB1KNVA70FAYAMVZKM23 to complete: ExecutionState.EXECUTING\n",
      "2024-06-02 17:54:50,665 INFO dune_client.base_client waiting for query execution 01HZDEPB1KNVA70FAYAMVZKM23 to complete: ExecutionState.EXECUTING\n",
      "2024-06-02 17:54:56,238 INFO dune_client.base_client waiting for query execution 01HZDEPB1KNVA70FAYAMVZKM23 to complete: ExecutionState.EXECUTING\n",
      "2024-06-02 17:55:01,711 INFO dune_client.base_client waiting for query execution 01HZDEPB1KNVA70FAYAMVZKM23 to complete: ExecutionState.EXECUTING\n",
      "2024-06-02 17:55:07,307 INFO dune_client.base_client waiting for query execution 01HZDEPB1KNVA70FAYAMVZKM23 to complete: ExecutionState.EXECUTING\n",
      "2024-06-02 17:55:12,722 INFO dune_client.base_client waiting for query execution 01HZDEPB1KNVA70FAYAMVZKM23 to complete: ExecutionState.EXECUTING\n",
      "2024-06-02 17:55:18,174 INFO dune_client.base_client waiting for query execution 01HZDEPB1KNVA70FAYAMVZKM23 to complete: ExecutionState.EXECUTING\n",
      "2024-06-02 17:55:23,627 INFO dune_client.base_client waiting for query execution 01HZDEPB1KNVA70FAYAMVZKM23 to complete: ExecutionState.EXECUTING\n",
      "2024-06-02 17:55:29,039 INFO dune_client.base_client waiting for query execution 01HZDEPB1KNVA70FAYAMVZKM23 to complete: ExecutionState.EXECUTING\n",
      "2024-06-02 17:55:34,490 INFO dune_client.base_client waiting for query execution 01HZDEPB1KNVA70FAYAMVZKM23 to complete: ExecutionState.EXECUTING\n",
      "2024-06-02 17:55:40,019 INFO dune_client.base_client waiting for query execution 01HZDEPB1KNVA70FAYAMVZKM23 to complete: ExecutionState.EXECUTING\n",
      "2024-06-02 17:55:45,473 INFO dune_client.base_client waiting for query execution 01HZDEPB1KNVA70FAYAMVZKM23 to complete: ExecutionState.EXECUTING\n",
      "2024-06-02 17:55:50,922 INFO dune_client.base_client waiting for query execution 01HZDEPB1KNVA70FAYAMVZKM23 to complete: ExecutionState.EXECUTING\n",
      "2024-06-02 17:55:56,377 INFO dune_client.base_client waiting for query execution 01HZDEPB1KNVA70FAYAMVZKM23 to complete: ExecutionState.EXECUTING\n",
      "2024-06-02 17:56:01,843 INFO dune_client.base_client waiting for query execution 01HZDEPB1KNVA70FAYAMVZKM23 to complete: ExecutionState.EXECUTING\n",
      "2024-06-02 17:56:07,317 INFO dune_client.base_client waiting for query execution 01HZDEPB1KNVA70FAYAMVZKM23 to complete: ExecutionState.EXECUTING\n",
      "2024-06-02 17:56:12,753 INFO dune_client.base_client waiting for query execution 01HZDEPB1KNVA70FAYAMVZKM23 to complete: ExecutionState.EXECUTING\n",
      "2024-06-02 17:56:18,184 INFO dune_client.base_client waiting for query execution 01HZDEPB1KNVA70FAYAMVZKM23 to complete: ExecutionState.EXECUTING\n",
      "2024-06-02 17:56:23,693 INFO dune_client.base_client waiting for query execution 01HZDEPB1KNVA70FAYAMVZKM23 to complete: ExecutionState.EXECUTING\n",
      "2024-06-02 17:56:29,280 INFO dune_client.base_client waiting for query execution 01HZDEPB1KNVA70FAYAMVZKM23 to complete: ExecutionState.EXECUTING\n",
      "2024-06-02 17:56:34,842 INFO dune_client.base_client waiting for query execution 01HZDEPB1KNVA70FAYAMVZKM23 to complete: ExecutionState.EXECUTING\n",
      "2024-06-02 17:56:40,301 INFO dune_client.base_client waiting for query execution 01HZDEPB1KNVA70FAYAMVZKM23 to complete: ExecutionState.EXECUTING\n",
      "2024-06-02 17:56:45,789 INFO dune_client.base_client waiting for query execution 01HZDEPB1KNVA70FAYAMVZKM23 to complete: ExecutionState.EXECUTING\n",
      "2024-06-02 17:56:51,287 INFO dune_client.base_client waiting for query execution 01HZDEPB1KNVA70FAYAMVZKM23 to complete: ExecutionState.EXECUTING\n",
      "2024-06-02 17:56:56,830 INFO dune_client.base_client waiting for query execution 01HZDEPB1KNVA70FAYAMVZKM23 to complete: ExecutionState.EXECUTING\n",
      "2024-06-02 17:57:02,301 INFO dune_client.base_client waiting for query execution 01HZDEPB1KNVA70FAYAMVZKM23 to complete: ExecutionState.EXECUTING\n",
      "2024-06-02 17:57:07,837 INFO dune_client.base_client waiting for query execution 01HZDEPB1KNVA70FAYAMVZKM23 to complete: ExecutionState.EXECUTING\n",
      "2024-06-02 17:57:13,566 INFO dune_client.base_client waiting for query execution 01HZDEPB1KNVA70FAYAMVZKM23 to complete: ExecutionState.EXECUTING\n",
      "2024-06-02 17:57:19,065 INFO dune_client.base_client waiting for query execution 01HZDEPB1KNVA70FAYAMVZKM23 to complete: ExecutionState.EXECUTING\n",
      "2024-06-02 17:57:24,544 INFO dune_client.base_client waiting for query execution 01HZDEPB1KNVA70FAYAMVZKM23 to complete: ExecutionState.EXECUTING\n",
      "2024-06-02 17:57:29,992 INFO dune_client.base_client waiting for query execution 01HZDEPB1KNVA70FAYAMVZKM23 to complete: ExecutionState.EXECUTING\n",
      "2024-06-02 17:57:35,494 INFO dune_client.base_client waiting for query execution 01HZDEPB1KNVA70FAYAMVZKM23 to complete: ExecutionState.EXECUTING\n",
      "2024-06-02 17:57:40,983 INFO dune_client.base_client waiting for query execution 01HZDEPB1KNVA70FAYAMVZKM23 to complete: ExecutionState.EXECUTING\n",
      "2024-06-02 17:57:46,449 INFO dune_client.base_client waiting for query execution 01HZDEPB1KNVA70FAYAMVZKM23 to complete: ExecutionState.EXECUTING\n",
      "2024-06-02 17:57:51,970 INFO dune_client.base_client waiting for query execution 01HZDEPB1KNVA70FAYAMVZKM23 to complete: ExecutionState.EXECUTING\n",
      "2024-06-02 17:57:57,427 INFO dune_client.base_client waiting for query execution 01HZDEPB1KNVA70FAYAMVZKM23 to complete: ExecutionState.EXECUTING\n",
      "2024-06-02 17:58:02,908 INFO dune_client.base_client waiting for query execution 01HZDEPB1KNVA70FAYAMVZKM23 to complete: ExecutionState.EXECUTING\n",
      "2024-06-02 17:58:08,359 INFO dune_client.base_client waiting for query execution 01HZDEPB1KNVA70FAYAMVZKM23 to complete: ExecutionState.EXECUTING\n",
      "2024-06-02 17:58:13,881 INFO dune_client.base_client waiting for query execution 01HZDEPB1KNVA70FAYAMVZKM23 to complete: ExecutionState.EXECUTING\n",
      "2024-06-02 17:58:19,324 INFO dune_client.base_client waiting for query execution 01HZDEPB1KNVA70FAYAMVZKM23 to complete: ExecutionState.EXECUTING\n",
      "2024-06-02 17:58:24,764 INFO dune_client.base_client waiting for query execution 01HZDEPB1KNVA70FAYAMVZKM23 to complete: ExecutionState.EXECUTING\n",
      "2024-06-02 17:58:30,236 INFO dune_client.base_client waiting for query execution 01HZDEPB1KNVA70FAYAMVZKM23 to complete: ExecutionState.EXECUTING\n",
      "2024-06-02 17:58:35,682 INFO dune_client.base_client waiting for query execution 01HZDEPB1KNVA70FAYAMVZKM23 to complete: ExecutionState.EXECUTING\n",
      "2024-06-02 17:58:41,212 INFO dune_client.base_client waiting for query execution 01HZDEPB1KNVA70FAYAMVZKM23 to complete: ExecutionState.EXECUTING\n",
      "2024-06-02 17:58:46,857 INFO dune_client.base_client waiting for query execution 01HZDEPB1KNVA70FAYAMVZKM23 to complete: ExecutionState.EXECUTING\n",
      "2024-06-02 17:58:52,489 INFO dune_client.base_client waiting for query execution 01HZDEPB1KNVA70FAYAMVZKM23 to complete: ExecutionState.EXECUTING\n",
      "2024-06-02 17:58:57,959 INFO dune_client.base_client waiting for query execution 01HZDEPB1KNVA70FAYAMVZKM23 to complete: ExecutionState.EXECUTING\n",
      "2024-06-02 17:59:03,432 INFO dune_client.base_client waiting for query execution 01HZDEPB1KNVA70FAYAMVZKM23 to complete: ExecutionState.EXECUTING\n",
      "2024-06-02 17:59:08,941 INFO dune_client.base_client waiting for query execution 01HZDEPB1KNVA70FAYAMVZKM23 to complete: ExecutionState.EXECUTING\n",
      "2024-06-02 17:59:14,450 INFO dune_client.base_client waiting for query execution 01HZDEPB1KNVA70FAYAMVZKM23 to complete: ExecutionState.EXECUTING\n",
      "2024-06-02 17:59:19,949 INFO dune_client.base_client waiting for query execution 01HZDEPB1KNVA70FAYAMVZKM23 to complete: ExecutionState.EXECUTING\n",
      "2024-06-02 17:59:25,569 INFO dune_client.base_client waiting for query execution 01HZDEPB1KNVA70FAYAMVZKM23 to complete: ExecutionState.EXECUTING\n",
      "2024-06-02 17:59:31,097 INFO dune_client.base_client waiting for query execution 01HZDEPB1KNVA70FAYAMVZKM23 to complete: ExecutionState.EXECUTING\n",
      "2024-06-02 17:59:36,629 INFO dune_client.base_client waiting for query execution 01HZDEPB1KNVA70FAYAMVZKM23 to complete: ExecutionState.EXECUTING\n",
      "2024-06-02 17:59:42,149 INFO dune_client.base_client waiting for query execution 01HZDEPB1KNVA70FAYAMVZKM23 to complete: ExecutionState.EXECUTING\n",
      "2024-06-02 17:59:47,633 INFO dune_client.base_client waiting for query execution 01HZDEPB1KNVA70FAYAMVZKM23 to complete: ExecutionState.EXECUTING\n",
      "2024-06-02 17:59:53,053 INFO dune_client.base_client waiting for query execution 01HZDEPB1KNVA70FAYAMVZKM23 to complete: ExecutionState.EXECUTING\n",
      "2024-06-02 17:59:58,641 INFO dune_client.base_client waiting for query execution 01HZDEPB1KNVA70FAYAMVZKM23 to complete: ExecutionState.EXECUTING\n",
      "2024-06-02 18:00:04,095 INFO dune_client.base_client waiting for query execution 01HZDEPB1KNVA70FAYAMVZKM23 to complete: ExecutionState.EXECUTING\n",
      "2024-06-02 18:00:09,576 INFO dune_client.base_client waiting for query execution 01HZDEPB1KNVA70FAYAMVZKM23 to complete: ExecutionState.EXECUTING\n",
      "2024-06-02 18:00:15,074 INFO dune_client.base_client waiting for query execution 01HZDEPB1KNVA70FAYAMVZKM23 to complete: ExecutionState.EXECUTING\n",
      "2024-06-02 18:00:20,522 INFO dune_client.base_client waiting for query execution 01HZDEPB1KNVA70FAYAMVZKM23 to complete: ExecutionState.EXECUTING\n",
      "2024-06-02 18:00:26,035 INFO dune_client.base_client waiting for query execution 01HZDEPB1KNVA70FAYAMVZKM23 to complete: ExecutionState.EXECUTING\n",
      "2024-06-02 18:00:31,610 INFO dune_client.base_client waiting for query execution 01HZDEPB1KNVA70FAYAMVZKM23 to complete: ExecutionState.EXECUTING\n",
      "2024-06-02 18:00:37,154 INFO dune_client.base_client waiting for query execution 01HZDEPB1KNVA70FAYAMVZKM23 to complete: ExecutionState.EXECUTING\n",
      "2024-06-02 18:00:42,644 INFO dune_client.base_client waiting for query execution 01HZDEPB1KNVA70FAYAMVZKM23 to complete: ExecutionState.EXECUTING\n",
      "2024-06-02 18:00:48,119 INFO dune_client.base_client waiting for query execution 01HZDEPB1KNVA70FAYAMVZKM23 to complete: ExecutionState.EXECUTING\n",
      "2024-06-02 18:00:53,604 INFO dune_client.base_client waiting for query execution 01HZDEPB1KNVA70FAYAMVZKM23 to complete: ExecutionState.EXECUTING\n",
      "2024-06-02 18:00:59,321 INFO dune_client.base_client waiting for query execution 01HZDEPB1KNVA70FAYAMVZKM23 to complete: ExecutionState.EXECUTING\n",
      "2024-06-02 18:01:04,829 INFO dune_client.base_client waiting for query execution 01HZDEPB1KNVA70FAYAMVZKM23 to complete: ExecutionState.EXECUTING\n",
      "2024-06-02 18:01:10,360 INFO dune_client.base_client waiting for query execution 01HZDEPB1KNVA70FAYAMVZKM23 to complete: ExecutionState.EXECUTING\n",
      "2024-06-02 18:01:15,858 INFO dune_client.base_client waiting for query execution 01HZDEPB1KNVA70FAYAMVZKM23 to complete: ExecutionState.EXECUTING\n",
      "2024-06-02 18:01:21,363 INFO dune_client.base_client waiting for query execution 01HZDEPB1KNVA70FAYAMVZKM23 to complete: ExecutionState.EXECUTING\n",
      "2024-06-02 18:01:26,817 INFO dune_client.base_client waiting for query execution 01HZDEPB1KNVA70FAYAMVZKM23 to complete: ExecutionState.EXECUTING\n",
      "2024-06-02 18:01:32,346 INFO dune_client.base_client waiting for query execution 01HZDEPB1KNVA70FAYAMVZKM23 to complete: ExecutionState.EXECUTING\n",
      "2024-06-02 18:01:37,806 INFO dune_client.base_client waiting for query execution 01HZDEPB1KNVA70FAYAMVZKM23 to complete: ExecutionState.EXECUTING\n",
      "2024-06-02 18:01:43,605 INFO dune_client.base_client waiting for query execution 01HZDEPB1KNVA70FAYAMVZKM23 to complete: ExecutionState.EXECUTING\n",
      "2024-06-02 18:01:49,129 INFO dune_client.base_client waiting for query execution 01HZDEPB1KNVA70FAYAMVZKM23 to complete: ExecutionState.EXECUTING\n",
      "2024-06-02 18:01:54,637 INFO dune_client.base_client waiting for query execution 01HZDEPB1KNVA70FAYAMVZKM23 to complete: ExecutionState.EXECUTING\n",
      "2024-06-02 18:02:00,135 INFO dune_client.base_client waiting for query execution 01HZDEPB1KNVA70FAYAMVZKM23 to complete: ExecutionState.EXECUTING\n",
      "2024-06-02 18:02:05,635 INFO dune_client.base_client waiting for query execution 01HZDEPB1KNVA70FAYAMVZKM23 to complete: ExecutionState.EXECUTING\n",
      "2024-06-02 18:02:11,251 INFO dune_client.base_client waiting for query execution 01HZDEPB1KNVA70FAYAMVZKM23 to complete: ExecutionState.EXECUTING\n",
      "2024-06-02 18:02:16,885 INFO dune_client.base_client waiting for query execution 01HZDEPB1KNVA70FAYAMVZKM23 to complete: ExecutionState.EXECUTING\n",
      "2024-06-02 18:02:22,395 INFO dune_client.base_client waiting for query execution 01HZDEPB1KNVA70FAYAMVZKM23 to complete: ExecutionState.EXECUTING\n",
      "2024-06-02 18:02:27,880 INFO dune_client.base_client waiting for query execution 01HZDEPB1KNVA70FAYAMVZKM23 to complete: ExecutionState.EXECUTING\n",
      "2024-06-02 18:02:33,510 INFO dune_client.base_client waiting for query execution 01HZDEPB1KNVA70FAYAMVZKM23 to complete: ExecutionState.EXECUTING\n",
      "2024-06-02 18:02:39,104 INFO dune_client.base_client waiting for query execution 01HZDEPB1KNVA70FAYAMVZKM23 to complete: ExecutionState.EXECUTING\n",
      "2024-06-02 18:02:44,807 INFO dune_client.base_client waiting for query execution 01HZDEPB1KNVA70FAYAMVZKM23 to complete: ExecutionState.EXECUTING\n",
      "2024-06-02 18:02:50,430 INFO dune_client.base_client waiting for query execution 01HZDEPB1KNVA70FAYAMVZKM23 to complete: ExecutionState.EXECUTING\n",
      "2024-06-02 18:02:55,944 INFO dune_client.base_client waiting for query execution 01HZDEPB1KNVA70FAYAMVZKM23 to complete: ExecutionState.EXECUTING\n",
      "2024-06-02 18:03:01,452 INFO dune_client.base_client waiting for query execution 01HZDEPB1KNVA70FAYAMVZKM23 to complete: ExecutionState.EXECUTING\n",
      "2024-06-02 18:03:06,944 INFO dune_client.base_client waiting for query execution 01HZDEPB1KNVA70FAYAMVZKM23 to complete: ExecutionState.EXECUTING\n",
      "2024-06-02 18:03:12,444 INFO dune_client.base_client waiting for query execution 01HZDEPB1KNVA70FAYAMVZKM23 to complete: ExecutionState.EXECUTING\n",
      "2024-06-02 18:03:17,933 INFO dune_client.base_client waiting for query execution 01HZDEPB1KNVA70FAYAMVZKM23 to complete: ExecutionState.EXECUTING\n",
      "2024-06-02 18:03:23,443 INFO dune_client.base_client waiting for query execution 01HZDEPB1KNVA70FAYAMVZKM23 to complete: ExecutionState.EXECUTING\n",
      "2024-06-02 18:03:28,925 INFO dune_client.base_client waiting for query execution 01HZDEPB1KNVA70FAYAMVZKM23 to complete: ExecutionState.EXECUTING\n",
      "2024-06-02 18:03:34,504 INFO dune_client.base_client waiting for query execution 01HZDEPB1KNVA70FAYAMVZKM23 to complete: ExecutionState.EXECUTING\n",
      "2024-06-02 18:03:40,040 INFO dune_client.base_client waiting for query execution 01HZDEPB1KNVA70FAYAMVZKM23 to complete: ExecutionState.EXECUTING\n",
      "2024-06-02 18:03:45,529 INFO dune_client.base_client waiting for query execution 01HZDEPB1KNVA70FAYAMVZKM23 to complete: ExecutionState.EXECUTING\n",
      "2024-06-02 18:03:51,110 INFO dune_client.base_client waiting for query execution 01HZDEPB1KNVA70FAYAMVZKM23 to complete: ExecutionState.EXECUTING\n",
      "2024-06-02 18:03:56,622 INFO dune_client.base_client waiting for query execution 01HZDEPB1KNVA70FAYAMVZKM23 to complete: ExecutionState.EXECUTING\n",
      "2024-06-02 18:04:02,256 INFO dune_client.base_client waiting for query execution 01HZDEPB1KNVA70FAYAMVZKM23 to complete: ExecutionState.EXECUTING\n",
      "2024-06-02 18:04:07,728 INFO dune_client.base_client waiting for query execution 01HZDEPB1KNVA70FAYAMVZKM23 to complete: ExecutionState.EXECUTING\n",
      "2024-06-02 18:04:13,195 INFO dune_client.base_client waiting for query execution 01HZDEPB1KNVA70FAYAMVZKM23 to complete: ExecutionState.EXECUTING\n",
      "2024-06-02 18:04:18,678 INFO dune_client.base_client waiting for query execution 01HZDEPB1KNVA70FAYAMVZKM23 to complete: ExecutionState.EXECUTING\n",
      "2024-06-02 18:04:24,335 INFO dune_client.base_client waiting for query execution 01HZDEPB1KNVA70FAYAMVZKM23 to complete: ExecutionState.EXECUTING\n",
      "2024-06-02 18:04:29,827 INFO dune_client.base_client waiting for query execution 01HZDEPB1KNVA70FAYAMVZKM23 to complete: ExecutionState.EXECUTING\n",
      "2024-06-02 18:04:35,492 INFO dune_client.base_client waiting for query execution 01HZDEPB1KNVA70FAYAMVZKM23 to complete: ExecutionState.EXECUTING\n",
      "2024-06-02 18:04:41,015 INFO dune_client.base_client waiting for query execution 01HZDEPB1KNVA70FAYAMVZKM23 to complete: ExecutionState.EXECUTING\n",
      "2024-06-02 18:04:46,466 INFO dune_client.base_client waiting for query execution 01HZDEPB1KNVA70FAYAMVZKM23 to complete: ExecutionState.EXECUTING\n",
      "2024-06-02 18:04:52,119 INFO dune_client.base_client waiting for query execution 01HZDEPB1KNVA70FAYAMVZKM23 to complete: ExecutionState.EXECUTING\n",
      "2024-06-02 18:04:57,598 INFO dune_client.base_client waiting for query execution 01HZDEPB1KNVA70FAYAMVZKM23 to complete: ExecutionState.EXECUTING\n",
      "2024-06-02 18:05:03,092 INFO dune_client.base_client waiting for query execution 01HZDEPB1KNVA70FAYAMVZKM23 to complete: ExecutionState.EXECUTING\n",
      "\u001b[32m2024-06-02 18:05:10.655\u001b[0m | \u001b[1mINFO    \u001b[0m | \u001b[36mduneapi_utils\u001b[0m:\u001b[36mget_dune_data\u001b[0m:\u001b[36m89\u001b[0m - \u001b[1m✨ Results saved as outputs/dune_daily_evms_desybilled_wallet_counts.csv, with 15586 rows and 13 columns.\u001b[0m\n"
     ]
    }
   ],
   "source": [
    "# Run Dune\n",
    "print('     dune runs')\n",
    "days_param = d.generate_query_parameter(input=trailing_pds,field_name='trailing_num_periods',dtype='number')\n",
    "dune_df = d.get_dune_data(query_id = 3784159, #https://dune.com/queries/3784159\n",
    "    name = \"dune_\" + query_name,\n",
    "    path = \"outputs\",\n",
    "    performance=\"large\",\n",
    "    params = [days_param]\n",
    ")\n",
    "dune_df['source'] = 'dune'\n",
    "dune_df['dt'] = pd.to_datetime(dune_df['dt']).dt.tz_localize(None)"
   ]
  },
  {
   "cell_type": "code",
   "execution_count": 6,
   "metadata": {
    "metadata": {}
   },
   "outputs": [],
   "source": [
    "# # Run Clickhouse\n",
    "# print('     clickhouse runs')\n",
    "# ch_dfs = []\n",
    "# with open(os.path.join(\"inputs/sql/goldsky_bychain.sql\"), \"r\") as file:\n",
    "#                         og_query = file.read()\n",
    "\n",
    "# for chain in clickhouse_configs:\n",
    "#         print(     'clickhouse: ' + chain['blockchain'])\n",
    "#         query = og_query\n",
    "#         #Pass in Params to the query\n",
    "#         query = query.replace(\"@blockchain@\", chain['blockchain'])\n",
    "#         query = query.replace(\"@name@\", chain['name'])\n",
    "#         query = query.replace(\"@layer@\", chain['layer'])\n",
    "#         query = query.replace(\"@trailing_days@\", str(chain['trailing_days']))\n",
    "        \n",
    "#         df = ch_client.query_df(query)\n",
    "\n",
    "#         ch_dfs.append(df)\n",
    "\n",
    "# ch = pd.concat(ch_dfs)\n",
    "# ch['source'] = 'goldsky'\n",
    "# ch['dt'] = pd.to_datetime(ch['dt']).dt.tz_localize(None)\n",
    "# ch = ch[['dt','blockchain','name','layer','num_qualified_txs','source']]"
   ]
  },
  {
   "cell_type": "code",
   "execution_count": 7,
   "metadata": {
    "metadata": {}
   },
   "outputs": [],
   "source": [
    "# # Step 1: Filter dune_df for chains not in flip\n",
    "# filtered_dune_df = dune_df[~dune_df['blockchain'].isin(flip['blockchain'])]\n",
    "# # Step 2: Union flip and filtered_dune_df\n",
    "# combined_flip_dune = pd.concat([flip, filtered_dune_df])\n",
    "# # Step 3: Filter ch for chains not in combined_flip_dune\n",
    "# filtered_ch = ch[~ch['blockchain'].isin(combined_flip_dune['blockchain'])]\n",
    "# # Step 4: Union the result with filtered_ch\n",
    "# final_df = pd.concat([combined_flip_dune, filtered_ch])\n",
    "# # final_df\n",
    "# # Temp until we pull in outher sources\n",
    "final_df = dune_df.copy()\n"
   ]
  },
  {
   "cell_type": "code",
   "execution_count": 8,
   "metadata": {
    "metadata": {}
   },
   "outputs": [],
   "source": [
    "opstack_metadata = pd.read_csv('../op_chains_tracking/outputs/chain_metadata.csv')\n",
    "\n",
    "opstack_metadata['display_name_lower'] = opstack_metadata['display_name'].str.lower()\n",
    "final_df['display_name_lower'] = final_df['name'].str.lower()\n",
    "\n",
    "meta_cols = ['is_op_chain','mainnet_chain_id','op_based_version', 'alignment','chain_name', 'display_name','display_name_lower']\n",
    "\n",
    "final_enriched_df = final_df.merge(opstack_metadata[meta_cols], on='display_name_lower', how = 'left')\n",
    "final_enriched_df['alignment'] = final_enriched_df['alignment'].fillna('Other EVMs')\n",
    "final_enriched_df['is_op_chain'] = final_enriched_df['is_op_chain'].fillna(False)\n",
    "final_enriched_df['display_name'] = final_enriched_df['display_name'].fillna(final_enriched_df['name'])\n",
    "\n",
    "final_enriched_df = final_enriched_df.drop(columns=['name'])"
   ]
  },
  {
   "cell_type": "code",
   "execution_count": 9,
   "metadata": {
    "metadata": {}
   },
   "outputs": [],
   "source": [
    "final_enriched_df.sort_values(by=['dt','blockchain'], ascending =[False, False], inplace = True)\n",
    "\n",
    "final_enriched_df.to_csv('outputs/'+query_name+'.csv', index=False)"
   ]
  },
  {
   "cell_type": "code",
   "execution_count": 10,
   "metadata": {},
   "outputs": [
    {
     "name": "stdout",
     "output_type": "stream",
     "text": [
      "File saved to: /Users/michaelsilberling/Documents/GitHub/op-analytics/other_chains_tracking/../helper_functions/../data_warehouse_uploads/files_to_upload/daily_evms_desybilled_wallet_counts.csv\n"
     ]
    }
   ],
   "source": [
    "#BQ Upload\n",
    "bqu.write_df_to_bq_table(final_enriched_df, query_name)"
   ]
  }
 ],
 "metadata": {
  "kernelspec": {
   "display_name": "new-env",
   "language": "python",
   "name": "python3"
  },
  "language_info": {
   "codemirror_mode": {
    "name": "ipython",
    "version": 3
   },
   "file_extension": ".py",
   "mimetype": "text/x-python",
   "name": "python",
   "nbconvert_exporter": "python",
   "pygments_lexer": "ipython3",
   "version": "3.10.11"
  }
 },
 "nbformat": 4,
 "nbformat_minor": 2
}

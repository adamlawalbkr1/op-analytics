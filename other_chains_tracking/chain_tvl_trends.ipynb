{
 "cells": [
  {
   "cell_type": "code",
   "execution_count": 1,
   "metadata": {},
   "outputs": [
    {
     "name": "stdout",
     "output_type": "stream",
     "text": [
      "start tvl trends\n"
     ]
    },
    {
     "name": "stderr",
     "output_type": "stream",
     "text": [
      "/var/folders/by/kltjc8yd0yz_7_wrtrzhrm9m0000gn/T/ipykernel_26500/2979273380.py:20: DeprecationWarning: datetime.datetime.utcnow() is deprecated and scheduled for removal in a future version. Use timezone-aware objects to represent datetimes in UTC: datetime.datetime.now(datetime.UTC).\n",
      "  current_utc_date = datetime.utcnow().replace(hour=0, minute=0, second=0, microsecond=0)\n"
     ]
    }
   ],
   "source": [
    "print('start tvl trends')\n",
    "import pandas as pd\n",
    "import sys\n",
    "import numpy as np\n",
    "import json\n",
    "import requests as r\n",
    "\n",
    "import time\n",
    "\n",
    "\n",
    "from datetime import datetime, timedelta\n",
    "sys.path.append(\"../helper_functions\")\n",
    "import defillama_utils as dfl\n",
    "import duneapi_utils as du\n",
    "import opstack_metadata_utils as ops\n",
    "import csv_utils as cu\n",
    "import google_bq_utils as bqu\n",
    "sys.path.pop()\n",
    "\n",
    "current_utc_date = datetime.utcnow().replace(hour=0, minute=0, second=0, microsecond=0)\n",
    "# print(current_utc_date)"
   ]
  },
  {
   "cell_type": "code",
   "execution_count": 2,
   "metadata": {},
   "outputs": [],
   "source": [
    "categorized_chains = dfl.get_chains_config()"
   ]
  },
  {
   "cell_type": "code",
   "execution_count": 3,
   "metadata": {},
   "outputs": [],
   "source": [
    "# categorized_chains.to_csv('outputs/dfl_categorized_chains.csv', index=False)"
   ]
  },
  {
   "cell_type": "code",
   "execution_count": 4,
   "metadata": {},
   "outputs": [],
   "source": [
    "# Convert float values in 'parent' column to dictionaries\n",
    "categorized_chains['parent'] = categorized_chains['parent'].apply(lambda x: {} if pd.isna(x) else x)\n",
    "\n",
    "# Check if the chain belongs to EVM category\n",
    "categorized_chains['is_EVM'] = categorized_chains['categories'].apply(lambda x: isinstance(x, list) and 'EVM' in x)\n",
    "\n",
    "# Check if the chain belongs to Rollup category or L2 is in parent_types\n",
    "def is_rollup(row):\n",
    "    categories = row['categories']\n",
    "    parent = row.get('parent')\n",
    "    parent_types = parent.get('types') if parent else []\n",
    "    \n",
    "    if isinstance(categories, list) and 'Rollup' in categories:\n",
    "        return True\n",
    "    if 'L2' in parent_types:\n",
    "        return True\n",
    "    \n",
    "    return False\n",
    "\n",
    "def extract_layer(row):\n",
    "    parent = row.get('parent')\n",
    "    parent_types = parent.get('types') if parent else []\n",
    "    \n",
    "    if 'L2' in parent_types:\n",
    "        return 'L2'\n",
    "    elif 'L3' in parent_types:\n",
    "        return 'L3'\n",
    "    \n",
    "    return 'L1'\n",
    "\n",
    "categorized_chains['is_Rollup'] = categorized_chains.apply(is_rollup, axis=1)\n",
    "categorized_chains['layer'] = categorized_chains.apply(extract_layer, axis=1)\n",
    "\n",
    "#Replace opBNB\n",
    "categorized_chains['defillama_slug'] = categorized_chains['defillama_slug'].replace('Op_Bnb', 'opBNB')\n",
    "\n",
    "considered_chains = categorized_chains[categorized_chains['is_EVM']]\n",
    "considered_chains = considered_chains[['defillama_slug','layer','is_EVM','is_Rollup','chainId']]\n",
    "\n",
    "# considered_chains"
   ]
  },
  {
   "cell_type": "code",
   "execution_count": 5,
   "metadata": {},
   "outputs": [
    {
     "data": {
      "text/html": [
       "<div>\n",
       "<style scoped>\n",
       "    .dataframe tbody tr th:only-of-type {\n",
       "        vertical-align: middle;\n",
       "    }\n",
       "\n",
       "    .dataframe tbody tr th {\n",
       "        vertical-align: top;\n",
       "    }\n",
       "\n",
       "    .dataframe thead th {\n",
       "        text-align: right;\n",
       "    }\n",
       "</style>\n",
       "<table border=\"1\" class=\"dataframe\">\n",
       "  <thead>\n",
       "    <tr style=\"text-align: right;\">\n",
       "      <th></th>\n",
       "      <th>defillama_slug</th>\n",
       "      <th>geckoId</th>\n",
       "      <th>symbol</th>\n",
       "      <th>cmcId</th>\n",
       "      <th>categories</th>\n",
       "      <th>chainId</th>\n",
       "      <th>github</th>\n",
       "      <th>twitter</th>\n",
       "      <th>url</th>\n",
       "      <th>parent</th>\n",
       "      <th>governanceID</th>\n",
       "      <th>is_EVM</th>\n",
       "      <th>is_Rollup</th>\n",
       "      <th>layer</th>\n",
       "    </tr>\n",
       "  </thead>\n",
       "  <tbody>\n",
       "    <tr>\n",
       "      <th>154</th>\n",
       "      <td>Interlay</td>\n",
       "      <td>interlay</td>\n",
       "      <td>INTR</td>\n",
       "      <td>20366</td>\n",
       "      <td>[Parachain, Bitcoin Sidechains]</td>\n",
       "      <td></td>\n",
       "      <td>[interlay]</td>\n",
       "      <td>InterlayHQ</td>\n",
       "      <td>https://www.interlay.io/</td>\n",
       "      <td>{'chain': 'Polkadot', 'types': ['parachain']}</td>\n",
       "      <td>NaN</td>\n",
       "      <td>False</td>\n",
       "      <td>False</td>\n",
       "      <td>L1</td>\n",
       "    </tr>\n",
       "    <tr>\n",
       "      <th>6</th>\n",
       "      <td>Conflux</td>\n",
       "      <td>conflux-token</td>\n",
       "      <td>CFX</td>\n",
       "      <td>7334</td>\n",
       "      <td>NaN</td>\n",
       "      <td></td>\n",
       "      <td>[Conflux-Chain]</td>\n",
       "      <td>Conflux_Network</td>\n",
       "      <td>https://confluxnetwork.org/</td>\n",
       "      <td>{}</td>\n",
       "      <td>NaN</td>\n",
       "      <td>False</td>\n",
       "      <td>False</td>\n",
       "      <td>L1</td>\n",
       "    </tr>\n",
       "    <tr>\n",
       "      <th>126</th>\n",
       "      <td>REIchain</td>\n",
       "      <td>None</td>\n",
       "      <td>None</td>\n",
       "      <td>None</td>\n",
       "      <td>[EVM]</td>\n",
       "      <td>55555</td>\n",
       "      <td>[reichain]</td>\n",
       "      <td>NaN</td>\n",
       "      <td>NaN</td>\n",
       "      <td>{}</td>\n",
       "      <td>NaN</td>\n",
       "      <td>True</td>\n",
       "      <td>False</td>\n",
       "      <td>L1</td>\n",
       "    </tr>\n",
       "    <tr>\n",
       "      <th>149</th>\n",
       "      <td>Canto</td>\n",
       "      <td>canto</td>\n",
       "      <td>CANTO</td>\n",
       "      <td>21516</td>\n",
       "      <td>[EVM, Cosmos]</td>\n",
       "      <td></td>\n",
       "      <td>[Canto-Network]</td>\n",
       "      <td>CantoPublic</td>\n",
       "      <td>https://canto.io/</td>\n",
       "      <td>{}</td>\n",
       "      <td>NaN</td>\n",
       "      <td>True</td>\n",
       "      <td>False</td>\n",
       "      <td>L1</td>\n",
       "    </tr>\n",
       "    <tr>\n",
       "      <th>364</th>\n",
       "      <td>Klaytn</td>\n",
       "      <td>klay-token</td>\n",
       "      <td>KLAY</td>\n",
       "      <td>4256</td>\n",
       "      <td>[EVM]</td>\n",
       "      <td>8217</td>\n",
       "      <td>[kaiachain]</td>\n",
       "      <td>kaiachain</td>\n",
       "      <td>https://kaia.io/</td>\n",
       "      <td>{}</td>\n",
       "      <td>NaN</td>\n",
       "      <td>True</td>\n",
       "      <td>False</td>\n",
       "      <td>L1</td>\n",
       "    </tr>\n",
       "  </tbody>\n",
       "</table>\n",
       "</div>"
      ],
      "text/plain": [
       "    defillama_slug        geckoId symbol  cmcId  \\\n",
       "154       Interlay       interlay   INTR  20366   \n",
       "6          Conflux  conflux-token    CFX   7334   \n",
       "126       REIchain           None   None   None   \n",
       "149          Canto          canto  CANTO  21516   \n",
       "364         Klaytn     klay-token   KLAY   4256   \n",
       "\n",
       "                          categories chainId           github  \\\n",
       "154  [Parachain, Bitcoin Sidechains]               [interlay]   \n",
       "6                                NaN          [Conflux-Chain]   \n",
       "126                            [EVM]   55555       [reichain]   \n",
       "149                    [EVM, Cosmos]          [Canto-Network]   \n",
       "364                            [EVM]    8217      [kaiachain]   \n",
       "\n",
       "             twitter                          url  \\\n",
       "154       InterlayHQ     https://www.interlay.io/   \n",
       "6    Conflux_Network  https://confluxnetwork.org/   \n",
       "126              NaN                          NaN   \n",
       "149      CantoPublic            https://canto.io/   \n",
       "364        kaiachain             https://kaia.io/   \n",
       "\n",
       "                                            parent governanceID  is_EVM  \\\n",
       "154  {'chain': 'Polkadot', 'types': ['parachain']}          NaN   False   \n",
       "6                                               {}          NaN   False   \n",
       "126                                             {}          NaN    True   \n",
       "149                                             {}          NaN    True   \n",
       "364                                             {}          NaN    True   \n",
       "\n",
       "     is_Rollup layer  \n",
       "154      False    L1  \n",
       "6        False    L1  \n",
       "126      False    L1  \n",
       "149      False    L1  \n",
       "364      False    L1  "
      ]
     },
     "execution_count": 5,
     "metadata": {},
     "output_type": "execute_result"
    }
   ],
   "source": [
    "categorized_chains['chainId'] = categorized_chains['chainId'].astype(str).replace('nan', '')\n",
    "categorized_chains['parent'] = categorized_chains['parent'].astype(str)\n",
    "categorized_chains.sample(5)"
   ]
  },
  {
   "cell_type": "code",
   "execution_count": 6,
   "metadata": {},
   "outputs": [
    {
     "name": "stdout",
     "output_type": "stream",
     "text": [
      "Start Writing api_table_uploads.defillama_chain_categorization\n",
      "Chunk 1/1 loaded successfully to api_table_uploads.defillama_chain_categorization\n",
      "All data loaded successfully to api_table_uploads.defillama_chain_categorization\n"
     ]
    }
   ],
   "source": [
    "# Upload config to bigquery\n",
    "table_id = 'defillama_chain_categorization'\n",
    "bqu.write_df_to_bq_table(categorized_chains, table_id = table_id)"
   ]
  },
  {
   "cell_type": "code",
   "execution_count": 7,
   "metadata": {},
   "outputs": [],
   "source": [
    "min_tvl_to_count_apps = 0"
   ]
  },
  {
   "cell_type": "code",
   "execution_count": 8,
   "metadata": {},
   "outputs": [],
   "source": [
    "# OPStack Metadata will auto pull, but we can also add curated protocols here (we handle for dupes)\n",
    "curated_chains = [\n",
    "    #L2s\n",
    "     ['Optimism', 'L2']\n",
    "    ,['Base', 'L2']\n",
    "    ,['Arbitrum', 'L2']\n",
    "    #non-dune L2s - Check L2Beat for comprehensiveness\n",
    "    ,['zkSync Era', 'L2']\n",
    "    ,['Polygon zkEVM', 'L2']\n",
    "    ,['Starknet', 'L2']\n",
    "    ,['Linea', 'L2']\n",
    "    ,['Mantle', 'L2']\n",
    "    ,['Scroll', 'L2']\n",
    "    ,['Boba', 'L2']\n",
    "    ,['Metis', 'L2']\n",
    "    ,['opBNB', 'L2']\n",
    "    ,['Rollux', 'L2']\n",
    "    ,['Manta', 'L2']\n",
    "    ,['Kroma','L2']\n",
    "    ,['Arbitrum Nova','L2']\n",
    "    #L1\n",
    "    ,['Ethereum', 'L1']\n",
    "    #Others\n",
    "    ,['Fantom', 'L1']\n",
    "    ,['Avalanche', 'L1']\n",
    "    ,['Gnosis' , 'L1']\n",
    "    ,['Celo', 'L1']\n",
    "    ,['Polygon', 'L1']\n",
    "    ,['BSC', 'L1']\n",
    "]\n",
    "\n",
    "curated_protocols = [\n",
    "         ['aevo', 'L2',['optimism','arbitrum','ethereum']]\n",
    "        ,['dydx', 'L2',['ethereum']]\n",
    "        ,['immutablex', 'L2',['ethereum']]\n",
    "        ,['apex-protocol', 'L2',['ethereum']]\n",
    "        # ,['brine.fi', 'L2',['ethereum']] #no longer listed\n",
    "        ,['loopring', 'L2',['ethereum']]\n",
    "        ,['aztec', 'L2',['ethereum']]\n",
    "        ,['lyra-v2', 'L2', ['ethereum']]\n",
    "    ]"
   ]
  },
  {
   "cell_type": "code",
   "execution_count": 9,
   "metadata": {},
   "outputs": [],
   "source": [
    "opstack_metadata = pd.read_csv('../op_chains_tracking/outputs/chain_metadata.csv')\n",
    "#filter to defillama chains\n",
    "tvl_opstack_metadata = opstack_metadata[~opstack_metadata['defillama_slug'].isna()].copy()\n",
    "# opstack_chains\n",
    "tvl_opstack_metadata = tvl_opstack_metadata[['defillama_slug','chain_layer','chain_type']]\n",
    "\n",
    "opstack_chains = tvl_opstack_metadata[~tvl_opstack_metadata['defillama_slug'].str.contains('protocols/')].copy()\n",
    "op_superchain_chains = tvl_opstack_metadata[tvl_opstack_metadata['chain_type'].notna()].copy()\n",
    "opstack_protocols = tvl_opstack_metadata[tvl_opstack_metadata['defillama_slug'].str.contains('protocols/')].copy()\n",
    "#clean column\n",
    "opstack_protocols['defillama_slug'] = opstack_protocols['defillama_slug'].str.replace('protocols/','')\n",
    "# Use apply to create an array with one element\n",
    "opstack_protocols['chain_list'] = opstack_protocols.apply(lambda x: ['ethereum'], axis=1) #guess, we can manually override if not"
   ]
  },
  {
   "cell_type": "code",
   "execution_count": 10,
   "metadata": {},
   "outputs": [
    {
     "name": "stdout",
     "output_type": "stream",
     "text": [
      "               defillama_slug chain_layer    chain_type\n",
      "0                    Optimism          L2    OP Mainnet\n",
      "6                        Zora          L2      Standard\n",
      "10                       Base          L2      Standard\n",
      "11                      Kroma          L2  Non-Standard\n",
      "14  protocols/orderly-network          L2  Non-Standard\n",
      "15          protocols/lyra-v2          L2  Non-Standard\n",
      "16                       Mode          L2      Standard\n",
      "17                    Fraxtal          L2  Non-Standard\n",
      "28                        BOB          L2  Non-Standard\n",
      "31                       Mint          L2      Standard\n",
      "32                      Cyber          L2  Non-Standard\n",
      "34                        Ham          L3  Non-Standard\n",
      "42                 Polynomial          L2      Standard\n"
     ]
    }
   ],
   "source": [
    "print(op_superchain_chains)"
   ]
  },
  {
   "cell_type": "code",
   "execution_count": 11,
   "metadata": {},
   "outputs": [],
   "source": [
    "# Create new lists\n",
    "curated_chains_tmp = curated_chains.copy()\n",
    "protocols = curated_protocols.copy()\n",
    "# Iterate through the DataFrame and append data to 'chains'\n",
    "for index, row in opstack_chains.iterrows():\n",
    "    if all(row['defillama_slug'] != item[0] for item in curated_chains_tmp):\n",
    "        curated_chains_tmp.append([row['defillama_slug'], row['chain_layer']])\n",
    "# Iterate through the DataFrame and append data to 'chains'\n",
    "for index, row in opstack_protocols.iterrows():\n",
    "    if all(row['defillama_slug'] != item[0] for item in protocols):\n",
    "        protocols.append([row['defillama_slug'], row['chain_layer'],row['chain_list']])\n"
   ]
  },
  {
   "cell_type": "code",
   "execution_count": 12,
   "metadata": {},
   "outputs": [
    {
     "name": "stderr",
     "output_type": "stream",
     "text": [
      "/var/folders/by/kltjc8yd0yz_7_wrtrzhrm9m0000gn/T/ipykernel_26500/3231336260.py:4: FutureWarning: Downcasting object dtype arrays on .fillna, .ffill, .bfill is deprecated and will change in a future version. Call result.infer_objects(copy=False) instead. To opt-in to the future behavior, set `pd.set_option('future.no_silent_downcasting', True)`\n",
      "  chains_df.fillna({'is_EVM': True, 'is_Rollup': True}, inplace=True)\n"
     ]
    }
   ],
   "source": [
    "raw_chains_df = pd.DataFrame(curated_chains_tmp, columns = ['defillama_slug','layer'])\n",
    "chains_df = raw_chains_df.merge(considered_chains, on = ['defillama_slug','layer'], how = 'left')\n",
    "\n",
    "chains_df.fillna({'is_EVM': True, 'is_Rollup': True}, inplace=True)\n",
    "chains_df = chains_df.infer_objects(copy=False)"
   ]
  },
  {
   "cell_type": "code",
   "execution_count": 13,
   "metadata": {},
   "outputs": [],
   "source": [
    "# chains_df"
   ]
  },
  {
   "cell_type": "code",
   "execution_count": 14,
   "metadata": {},
   "outputs": [],
   "source": [
    "\n",
    "# Get the chains already present in chains_df\n",
    "existing_chains = set(chains_df['defillama_slug'])\n",
    "\n",
    "# Filter out the chains from considered_chains that are not in chains_df\n",
    "to_append = considered_chains[~considered_chains['defillama_slug'].isin(existing_chains)]\n",
    "\n",
    "# Append the selected rows to chains_df\n",
    "chains_df = pd.concat([chains_df, to_append], ignore_index=True)\n",
    "\n",
    "\n",
    "# merged_chains_df.sort_values(by='chain').head(20)"
   ]
  },
  {
   "cell_type": "code",
   "execution_count": 15,
   "metadata": {},
   "outputs": [],
   "source": [
    "chain_name_list = chains_df['defillama_slug'].unique().tolist()\n",
    "get_app_list = op_superchain_chains['defillama_slug'].unique().tolist()"
   ]
  },
  {
   "cell_type": "code",
   "execution_count": 16,
   "metadata": {},
   "outputs": [
    {
     "name": "stdout",
     "output_type": "stream",
     "text": [
      "get tvls\n",
      "Number of Apps: 530\n"
     ]
    },
    {
     "name": "stderr",
     "output_type": "stream",
     "text": [
      "/Users/michaelsilberling/Documents/GitHub/op-analytics/other_chains_tracking/../helper_functions/defillama_utils.py:572: FutureWarning: Downcasting object dtype arrays on .fillna, .ffill, .bfill is deprecated and will change in a future version. Call result.infer_objects(copy=False) instead. To opt-in to the future behavior, set `pd.set_option('future.no_silent_downcasting', True)`\n",
      "  df = df.fillna(0).infer_objects(copy=False)\n",
      "/Users/michaelsilberling/Documents/GitHub/op-analytics/other_chains_tracking/../helper_functions/defillama_utils.py:572: FutureWarning: Downcasting object dtype arrays on .fillna, .ffill, .bfill is deprecated and will change in a future version. Call result.infer_objects(copy=False) instead. To opt-in to the future behavior, set `pd.set_option('future.no_silent_downcasting', True)`\n",
      "  df = df.fillna(0).infer_objects(copy=False)\n",
      "/Users/michaelsilberling/Documents/GitHub/op-analytics/other_chains_tracking/../helper_functions/defillama_utils.py:572: FutureWarning: Downcasting object dtype arrays on .fillna, .ffill, .bfill is deprecated and will change in a future version. Call result.infer_objects(copy=False) instead. To opt-in to the future behavior, set `pd.set_option('future.no_silent_downcasting', True)`\n",
      "  df = df.fillna(0).infer_objects(copy=False)\n",
      "/Users/michaelsilberling/Documents/GitHub/op-analytics/other_chains_tracking/../helper_functions/defillama_utils.py:572: FutureWarning: Downcasting object dtype arrays on .fillna, .ffill, .bfill is deprecated and will change in a future version. Call result.infer_objects(copy=False) instead. To opt-in to the future behavior, set `pd.set_option('future.no_silent_downcasting', True)`\n",
      "  df = df.fillna(0).infer_objects(copy=False)\n",
      "/Users/michaelsilberling/Documents/GitHub/op-analytics/other_chains_tracking/../helper_functions/defillama_utils.py:572: FutureWarning: Downcasting object dtype arrays on .fillna, .ffill, .bfill is deprecated and will change in a future version. Call result.infer_objects(copy=False) instead. To opt-in to the future behavior, set `pd.set_option('future.no_silent_downcasting', True)`\n",
      "  df = df.fillna(0).infer_objects(copy=False)\n",
      "/Users/michaelsilberling/Documents/GitHub/op-analytics/other_chains_tracking/../helper_functions/defillama_utils.py:572: FutureWarning: Downcasting object dtype arrays on .fillna, .ffill, .bfill is deprecated and will change in a future version. Call result.infer_objects(copy=False) instead. To opt-in to the future behavior, set `pd.set_option('future.no_silent_downcasting', True)`\n",
      "  df = df.fillna(0).infer_objects(copy=False)\n",
      "/Users/michaelsilberling/Documents/GitHub/op-analytics/other_chains_tracking/../helper_functions/defillama_utils.py:572: FutureWarning: Downcasting object dtype arrays on .fillna, .ffill, .bfill is deprecated and will change in a future version. Call result.infer_objects(copy=False) instead. To opt-in to the future behavior, set `pd.set_option('future.no_silent_downcasting', True)`\n",
      "  df = df.fillna(0).infer_objects(copy=False)\n",
      "/Users/michaelsilberling/Documents/GitHub/op-analytics/other_chains_tracking/../helper_functions/defillama_utils.py:572: FutureWarning: Downcasting object dtype arrays on .fillna, .ffill, .bfill is deprecated and will change in a future version. Call result.infer_objects(copy=False) instead. To opt-in to the future behavior, set `pd.set_option('future.no_silent_downcasting', True)`\n",
      "  df = df.fillna(0).infer_objects(copy=False)\n",
      "/Users/michaelsilberling/Documents/GitHub/op-analytics/other_chains_tracking/../helper_functions/defillama_utils.py:572: FutureWarning: Downcasting object dtype arrays on .fillna, .ffill, .bfill is deprecated and will change in a future version. Call result.infer_objects(copy=False) instead. To opt-in to the future behavior, set `pd.set_option('future.no_silent_downcasting', True)`\n",
      "  df = df.fillna(0).infer_objects(copy=False)\n",
      "/Users/michaelsilberling/Documents/GitHub/op-analytics/other_chains_tracking/../helper_functions/defillama_utils.py:572: FutureWarning: Downcasting object dtype arrays on .fillna, .ffill, .bfill is deprecated and will change in a future version. Call result.infer_objects(copy=False) instead. To opt-in to the future behavior, set `pd.set_option('future.no_silent_downcasting', True)`\n",
      "  df = df.fillna(0).infer_objects(copy=False)\n",
      "/Users/michaelsilberling/Documents/GitHub/op-analytics/other_chains_tracking/../helper_functions/defillama_utils.py:572: FutureWarning: Downcasting object dtype arrays on .fillna, .ffill, .bfill is deprecated and will change in a future version. Call result.infer_objects(copy=False) instead. To opt-in to the future behavior, set `pd.set_option('future.no_silent_downcasting', True)`\n",
      "  df = df.fillna(0).infer_objects(copy=False)\n",
      "/Users/michaelsilberling/Documents/GitHub/op-analytics/other_chains_tracking/../helper_functions/defillama_utils.py:572: FutureWarning: Downcasting object dtype arrays on .fillna, .ffill, .bfill is deprecated and will change in a future version. Call result.infer_objects(copy=False) instead. To opt-in to the future behavior, set `pd.set_option('future.no_silent_downcasting', True)`\n",
      "  df = df.fillna(0).infer_objects(copy=False)\n",
      "/Users/michaelsilberling/Documents/GitHub/op-analytics/other_chains_tracking/../helper_functions/defillama_utils.py:561: FutureWarning: Downcasting object dtype arrays on .fillna, .ffill, .bfill is deprecated and will change in a future version. Call result.infer_objects(copy=False) instead. To opt-in to the future behavior, set `pd.set_option('future.no_silent_downcasting', True)`\n",
      "  df['prior_price_usd'] = (df[['prior_price_usd', 'price_usd']].bfill(axis=1).iloc[:, 0])\n",
      "/Users/michaelsilberling/Documents/GitHub/op-analytics/other_chains_tracking/../helper_functions/defillama_utils.py:562: FutureWarning: Downcasting object dtype arrays on .fillna, .ffill, .bfill is deprecated and will change in a future version. Call result.infer_objects(copy=False) instead. To opt-in to the future behavior, set `pd.set_option('future.no_silent_downcasting', True)`\n",
      "  df['prior_token_value'] = (df[['prior_token_value', 'token_value']].bfill(axis=1).iloc[:, 0])\n",
      "/Users/michaelsilberling/Documents/GitHub/op-analytics/other_chains_tracking/../helper_functions/defillama_utils.py:572: FutureWarning: Downcasting object dtype arrays on .fillna, .ffill, .bfill is deprecated and will change in a future version. Call result.infer_objects(copy=False) instead. To opt-in to the future behavior, set `pd.set_option('future.no_silent_downcasting', True)`\n",
      "  df = df.fillna(0).infer_objects(copy=False)\n"
     ]
    },
    {
     "name": "stdout",
     "output_type": "stream",
     "text": [
      "Number of Rows: 240594\n"
     ]
    },
    {
     "name": "stderr",
     "output_type": "stream",
     "text": [
      "/Users/michaelsilberling/Documents/GitHub/op-analytics/other_chains_tracking/../helper_functions/defillama_utils.py:207: FutureWarning: Downcasting object dtype arrays on .fillna, .ffill, .bfill is deprecated and will change in a future version. Call result.infer_objects(copy=False) instead. To opt-in to the future behavior, set `pd.set_option('future.no_silent_downcasting', True)`\n",
      "  df_df_all = df_df_all.fillna(0)\n"
     ]
    }
   ],
   "source": [
    "print('get tvls')\n",
    "\n",
    "p = dfl.get_all_protocol_tvls_by_chain_and_token(\n",
    "    min_tvl=min_tvl_to_count_apps, \n",
    "    chains = get_app_list,\n",
    "    do_aggregate = 'Yes'\n",
    ")"
   ]
  },
  {
   "cell_type": "code",
   "execution_count": 17,
   "metadata": {},
   "outputs": [
    {
     "data": {
      "text/html": [
       "<div>\n",
       "<style scoped>\n",
       "    .dataframe tbody tr th:only-of-type {\n",
       "        vertical-align: middle;\n",
       "    }\n",
       "\n",
       "    .dataframe tbody tr th {\n",
       "        vertical-align: top;\n",
       "    }\n",
       "\n",
       "    .dataframe thead th {\n",
       "        text-align: right;\n",
       "    }\n",
       "</style>\n",
       "<table border=\"1\" class=\"dataframe\">\n",
       "  <thead>\n",
       "    <tr style=\"text-align: right;\">\n",
       "      <th></th>\n",
       "      <th>chain</th>\n",
       "      <th>date</th>\n",
       "      <th>protocol</th>\n",
       "      <th>parent_protocol</th>\n",
       "      <th>sum_token_value_usd_flow</th>\n",
       "      <th>sum_token_value_usd_price_change</th>\n",
       "      <th>sum_usd_value</th>\n",
       "      <th>to_filter_out</th>\n",
       "    </tr>\n",
       "  </thead>\n",
       "  <tbody>\n",
       "    <tr>\n",
       "      <th>55</th>\n",
       "      <td>Base</td>\n",
       "      <td>2023-10-08</td>\n",
       "      <td>synthswap-v3</td>\n",
       "      <td>parent#synthswap</td>\n",
       "      <td>1884.386019</td>\n",
       "      <td>-440.233779</td>\n",
       "      <td>2.007256e+06</td>\n",
       "      <td>0</td>\n",
       "    </tr>\n",
       "    <tr>\n",
       "      <th>492</th>\n",
       "      <td>Optimism</td>\n",
       "      <td>2023-07-17</td>\n",
       "      <td>superfluid</td>\n",
       "      <td>Superfluid</td>\n",
       "      <td>-10.162434</td>\n",
       "      <td>-23.439466</td>\n",
       "      <td>2.961210e+04</td>\n",
       "      <td>0</td>\n",
       "    </tr>\n",
       "    <tr>\n",
       "      <th>754</th>\n",
       "      <td>Optimism</td>\n",
       "      <td>2024-07-02</td>\n",
       "      <td>granary-finance</td>\n",
       "      <td>Granary Finance</td>\n",
       "      <td>4711.882566</td>\n",
       "      <td>57219.612594</td>\n",
       "      <td>3.068633e+06</td>\n",
       "      <td>0</td>\n",
       "    </tr>\n",
       "    <tr>\n",
       "      <th>104</th>\n",
       "      <td>Mode</td>\n",
       "      <td>2024-07-10</td>\n",
       "      <td>shoebill-v2</td>\n",
       "      <td>parent#shoebill-finance</td>\n",
       "      <td>-147.027364</td>\n",
       "      <td>1366.765974</td>\n",
       "      <td>1.326901e+05</td>\n",
       "      <td>0</td>\n",
       "    </tr>\n",
       "    <tr>\n",
       "      <th>712</th>\n",
       "      <td>Optimism</td>\n",
       "      <td>2024-09-15</td>\n",
       "      <td>powerbomb-finance</td>\n",
       "      <td>Powerbomb Finance</td>\n",
       "      <td>0.000130</td>\n",
       "      <td>0.000000</td>\n",
       "      <td>3.927000e-02</td>\n",
       "      <td>0</td>\n",
       "    </tr>\n",
       "  </tbody>\n",
       "</table>\n",
       "</div>"
      ],
      "text/plain": [
       "        chain       date           protocol          parent_protocol  \\\n",
       "55       Base 2023-10-08       synthswap-v3         parent#synthswap   \n",
       "492  Optimism 2023-07-17         superfluid               Superfluid   \n",
       "754  Optimism 2024-07-02    granary-finance          Granary Finance   \n",
       "104      Mode 2024-07-10        shoebill-v2  parent#shoebill-finance   \n",
       "712  Optimism 2024-09-15  powerbomb-finance        Powerbomb Finance   \n",
       "\n",
       "     sum_token_value_usd_flow  sum_token_value_usd_price_change  \\\n",
       "55                1884.386019                       -440.233779   \n",
       "492                -10.162434                        -23.439466   \n",
       "754               4711.882566                      57219.612594   \n",
       "104               -147.027364                       1366.765974   \n",
       "712                  0.000130                          0.000000   \n",
       "\n",
       "     sum_usd_value  to_filter_out  \n",
       "55    2.007256e+06              0  \n",
       "492   2.961210e+04              0  \n",
       "754   3.068633e+06              0  \n",
       "104   1.326901e+05              0  \n",
       "712   3.927000e-02              0  "
      ]
     },
     "execution_count": 17,
     "metadata": {},
     "output_type": "execute_result"
    }
   ],
   "source": [
    "p.sample(5)\n"
   ]
  },
  {
   "cell_type": "code",
   "execution_count": 18,
   "metadata": {},
   "outputs": [],
   "source": [
    "# p\n",
    "# print('gen flows')\n",
    "# p = dfl.generate_flows_column(p)\n",
    "# p = dfl.get_tvl(apistring= 'https://api.llama.fi/protocol/velodrome', chains = chain_name_list, prot = 'velodrome',prot_name='Velodrome')"
   ]
  },
  {
   "cell_type": "code",
   "execution_count": 19,
   "metadata": {},
   "outputs": [],
   "source": [
    "#sort by date\n",
    "p = p.sort_values(by='date',ascending=True)"
   ]
  },
  {
   "cell_type": "code",
   "execution_count": 20,
   "metadata": {},
   "outputs": [
    {
     "name": "stdout",
     "output_type": "stream",
     "text": [
      "Start Writing api_table_uploads.daily_defillama_op_chain_app_tvl\n",
      "Chunk 1/3 loaded successfully to api_table_uploads.daily_defillama_op_chain_app_tvl\n",
      "Chunk 2/3 loaded successfully to api_table_uploads.daily_defillama_op_chain_app_tvl\n",
      "Chunk 3/3 loaded successfully to api_table_uploads.daily_defillama_op_chain_app_tvl\n",
      "All data loaded successfully to api_table_uploads.daily_defillama_op_chain_app_tvl\n"
     ]
    }
   ],
   "source": [
    "# Aggregate data\n",
    "\n",
    "app_level_dfl_list = p.groupby(['chain', 'date','parent_protocol','protocol']).agg(\n",
    "    sum_token_value_usd_flow=pd.NamedAgg(column='sum_token_value_usd_flow', aggfunc='sum'),\n",
    "    sum_token_value_usd_price_change=pd.NamedAgg(column='sum_token_value_usd_price_change', aggfunc='sum'),\n",
    "    avg_usd_tvl=pd.NamedAgg(column='sum_usd_value', aggfunc='mean')\n",
    "\n",
    ").reset_index()\n",
    "\n",
    "app_level_dfl_list = app_level_dfl_list.rename(columns={'date':'dt'})\n",
    "\n",
    "bqu.write_df_to_bq_table(app_level_dfl_list, 'daily_defillama_op_chain_app_tvl')"
   ]
  },
  {
   "cell_type": "code",
   "execution_count": 21,
   "metadata": {},
   "outputs": [],
   "source": [
    "# TODO: Try to use config API to get Apps by Chain, since this only shows TVLs\n",
    "\n",
    "app_dfl_list = p.groupby(['chain', 'date']).agg(\n",
    "    distinct_protocol=pd.NamedAgg(column='protocol', aggfunc=pd.Series.nunique),\n",
    "    distinct_parent_protocol=pd.NamedAgg(column='parent_protocol', aggfunc=pd.Series.nunique),\n",
    "    sum_token_value_usd_flow=pd.NamedAgg(column='sum_token_value_usd_flow', aggfunc='sum'),\n",
    "    sum_token_value_usd_price_change=pd.NamedAgg(column='sum_token_value_usd_price_change', aggfunc='sum'),\n",
    "    avg_usd_tvl=pd.NamedAgg(column='sum_usd_value', aggfunc='mean')\n",
    ")\n",
    "\n",
    "p = None #Clear Memory\n",
    "\n",
    "app_dfl_list = app_dfl_list.reset_index()\n",
    "app_dfl_list = app_dfl_list.rename(columns={'chain':'defillama_slug'})\n",
    "\n",
    "\n",
    "# display(app_dfl_list)\n",
    "# app_dfl_list"
   ]
  },
  {
   "cell_type": "code",
   "execution_count": 22,
   "metadata": {},
   "outputs": [],
   "source": [
    "# display(app_dfl_list[app_dfl_list['defillama_slug']=='Mode'])"
   ]
  },
  {
   "cell_type": "code",
   "execution_count": 23,
   "metadata": {},
   "outputs": [
    {
     "name": "stdout",
     "output_type": "stream",
     "text": [
      "An unexpected error occurred for ['lyra-v2', 'L2', ['ethereum']]: Error decoding JSON for protocol lyra-v2: Expecting value: line 1 column 1 (char 0)\n"
     ]
    }
   ],
   "source": [
    "p_agg = []\n",
    "for p in protocols:\n",
    "    try:\n",
    "        d = dfl.get_single_tvl(p[0], p[2], print_api_str=False) #Set print_api_str=True for debugging\n",
    "        # print(f\"Raw content for {p}: {d}\")\n",
    "        d['chain_prot'] = p[0].title()\n",
    "        d['layer'] = p[1]\n",
    "        d['defillama_slug'] = 'protocols/' + p[0]\n",
    "        d['source'] = 'protocol'\n",
    "        # d['prot_chain'] = c\n",
    "        p_agg.append(d)\n",
    "    except json.JSONDecodeError as e:\n",
    "        print(f\"Error decoding JSON for {p}: {e}\")\n",
    "        continue  # Continue to the next iteration of the loop\n",
    "    except Exception as e:\n",
    "        print(f\"An unexpected error occurred for {p}: {e}\")\n",
    "        continue  # Continue to the next iteration of the loop\n",
    "\n",
    "df = pd.concat(p_agg)\n",
    "df = df.fillna(0)\n",
    "# prob use total_app_tvl since it has more history and we're not yet doing flows\n",
    "df_sum = df.groupby(['date', 'chain_prot', 'layer', 'defillama_slug', 'source']).agg({'usd_value':'sum'}).reset_index()\n",
    "# print(df_sum.columns)\n",
    "\n",
    "df_sum = df_sum[['date', 'usd_value', 'chain_prot', 'layer', 'defillama_slug', 'source']]\n",
    "df_sum = df_sum.rename(columns={'chain_prot': 'chain', 'usd_value': 'tvl'})\n",
    "\n",
    "# print(df_sum.tail(5))\n"
   ]
  },
  {
   "cell_type": "code",
   "execution_count": 24,
   "metadata": {},
   "outputs": [],
   "source": [
    "# display(df_sum[df_sum['chain']=='Aevo'])\n",
    "# display(df_sum)"
   ]
  },
  {
   "cell_type": "code",
   "execution_count": 25,
   "metadata": {},
   "outputs": [
    {
     "name": "stdout",
     "output_type": "stream",
     "text": [
      "error - historicalChainTvl api\n"
     ]
    },
    {
     "name": "stderr",
     "output_type": "stream",
     "text": [
      "/var/folders/by/kltjc8yd0yz_7_wrtrzhrm9m0000gn/T/ipykernel_26500/1417781442.py:29: FutureWarning: Downcasting behavior in `replace` is deprecated and will be removed in a future version. To retain the old behavior, explicitly call `result.infer_objects(copy=False)`. To opt-in to the future behavior, set `pd.set_option('future.no_silent_downcasting', True)`\n",
      "  df['tvl'] = df['tvl'].replace('', 0)\n"
     ]
    }
   ],
   "source": [
    "c_agg = []\n",
    "for c in curated_chains_tmp:\n",
    "        try:\n",
    "                d = dfl.get_historical_chain_tvl(c[0])\n",
    "                d['chain'] = c[0]\n",
    "                d['layer'] = c[1]\n",
    "                d['defillama_slug'] = c[0]\n",
    "                d['source'] = 'chain'\n",
    "                \n",
    "                c_agg.append(d)\n",
    "        except Exception as e:\n",
    "                print(f\"An unexpected error occurred for {c}: {e}\")\n",
    "                continue  # Continue to the next iteration of the loop\n",
    "\n",
    "\n",
    "df_ch = pd.concat(c_agg)\n",
    "df = pd.concat([df_ch,df_sum])\n",
    "# Rename\n",
    "df['chain'] = df['chain'].str.replace('%20', ' ', regex=False)\n",
    "df['chain'] = df['chain'].str.replace('-', ' ', regex=False)\n",
    "df.loc[df['chain'] == 'Optimism', 'chain'] = 'OP Mainnet'\n",
    "df.loc[df['chain'] == 'BSC', 'chain'] = 'BNB'\n",
    "df.loc[df['chain'] == 'Brine.Fi', 'chain'] = 'Brine'\n",
    "df.loc[df['chain'] == 'Immutablex', 'chain'] = 'ImmutableX'\n",
    "\n",
    "\n",
    "df = df[df['date'] <= current_utc_date ] #rm dupes at current datetime\n",
    "df['tvl'] = df['tvl'].fillna(0)\n",
    "df['tvl'] = df['tvl'].replace('', 0)\n",
    "\n",
    "df['date'] = pd.to_datetime(df['date']) - timedelta(days=1) #map to the prior day, since dfl adds an extra day"
   ]
  },
  {
   "cell_type": "code",
   "execution_count": 26,
   "metadata": {},
   "outputs": [],
   "source": [
    "df = df.merge(app_dfl_list, on =['defillama_slug','date'], how='left')"
   ]
  },
  {
   "cell_type": "code",
   "execution_count": 27,
   "metadata": {},
   "outputs": [],
   "source": [
    "# display(df[df['chain']=='Mode'])"
   ]
  },
  {
   "cell_type": "code",
   "execution_count": 28,
   "metadata": {},
   "outputs": [
    {
     "name": "stderr",
     "output_type": "stream",
     "text": [
      "/var/folders/by/kltjc8yd0yz_7_wrtrzhrm9m0000gn/T/ipykernel_26500/1999252415.py:7: FutureWarning: Downcasting object dtype arrays on .fillna, .ffill, .bfill is deprecated and will change in a future version. Call result.infer_objects(copy=False) instead. To opt-in to the future behavior, set `pd.set_option('future.no_silent_downcasting', True)`\n",
      "  df['is_op_chain'] = df['is_op_chain'].fillna(False)\n",
      "/var/folders/by/kltjc8yd0yz_7_wrtrzhrm9m0000gn/T/ipykernel_26500/1999252415.py:9: FutureWarning: A value is trying to be set on a copy of a DataFrame or Series through chained assignment using an inplace method.\n",
      "The behavior will change in pandas 3.0. This inplace method will never work because the intermediate object on which we are setting values always behaves as a copy.\n",
      "\n",
      "For example, when doing 'df[col].method(value, inplace=True)', try using 'df.method({col: value}, inplace=True)' or df[col] = df[col].method(value) instead, to perform the operation inplace on the original object.\n",
      "\n",
      "\n",
      "  df['tvl'].fillna(0, inplace=True)  # Or use an appropriate default value\n"
     ]
    }
   ],
   "source": [
    "# Add Metadata\n",
    "meta_cols = ['defillama_slug', 'is_op_chain','mainnet_chain_id','op_based_version', 'alignment','chain_name','display_name']\n",
    "\n",
    "df = df.merge(opstack_metadata[meta_cols], on='defillama_slug', how = 'left')\n",
    "\n",
    "df['alignment'] = df['alignment'].fillna('Other EVMs')\n",
    "df['is_op_chain'] = df['is_op_chain'].fillna(False)\n",
    "df['date'] = pd.to_datetime(df['date'])\n",
    "df['tvl'].fillna(0, inplace=True)  # Or use an appropriate default value\n",
    "\n",
    "#DFL Metadata cols\n",
    "df = df.merge(chains_df, on = ['defillama_slug'], how = 'left')\n",
    "\n",
    "# Coalesce layer_x and layer_y into a new column layer\n",
    "df['layer'] = df['layer_x'].combine_first(df['layer_y'])\n",
    "\n",
    "# Drop the original layer_x and layer_y columns\n",
    "df.drop(['layer_x', 'layer_y'], axis=1, inplace=True)"
   ]
  },
  {
   "cell_type": "code",
   "execution_count": 29,
   "metadata": {},
   "outputs": [
    {
     "name": "stderr",
     "output_type": "stream",
     "text": [
      "/var/folders/by/kltjc8yd0yz_7_wrtrzhrm9m0000gn/T/ipykernel_26500/90922168.py:4: FutureWarning: Downcasting object dtype arrays on .fillna, .ffill, .bfill is deprecated and will change in a future version. Call result.infer_objects(copy=False) instead. To opt-in to the future behavior, set `pd.set_option('future.no_silent_downcasting', True)`\n",
      "  df['chainId'] = df['chainId'].fillna(-1).astype(int)\n"
     ]
    }
   ],
   "source": [
    "# Convert the column to string\n",
    "df['is_EVM'] = df['is_EVM'].astype(str)\n",
    "df['is_Rollup'] = df['is_Rollup'].astype(str)\n",
    "df['chainId'] = df['chainId'].fillna(-1).astype(int)"
   ]
  },
  {
   "cell_type": "code",
   "execution_count": 30,
   "metadata": {},
   "outputs": [],
   "source": [
    "cutoff_date = pd.Timestamp.now() - pd.Timedelta(days=365)\n",
    "# Filter the DataFrame to the last 365 days\n",
    "df_365 = df[df['date'] >= cutoff_date]\n",
    "# df_365.sample(5)"
   ]
  },
  {
   "cell_type": "code",
   "execution_count": 31,
   "metadata": {},
   "outputs": [],
   "source": [
    "#  Define aggregation functions for each column\n",
    "aggregations = {\n",
    "    'tvl': ['min', 'last', 'mean'],\n",
    "    'distinct_protocol': ['min', 'last', 'mean'],\n",
    "    'distinct_parent_protocol': ['min', 'last', 'mean'],\n",
    "    'sum_token_value_usd_flow': 'sum',\n",
    "    'sum_token_value_usd_price_change': 'sum'\n",
    "}\n",
    "# Function to perform aggregation based on frequency\n",
    "def aggregate_data(df, freq, date_col='date', groupby_cols=None, aggs=None):\n",
    "    if groupby_cols is None:\n",
    "        groupby_cols = ['chain', 'layer', 'defillama_slug', 'source', 'is_op_chain', 'mainnet_chain_id', 'op_based_version', 'alignment', 'chain_name', 'display_name', 'chainId']\n",
    "    if aggs is None:\n",
    "        aggs = aggregations\n",
    "\n",
    "    # Group by the specified frequency and other columns, then apply aggregations\n",
    "    df_agg = df.groupby([pd.Grouper(key=date_col, freq=freq, closed='left')] + groupby_cols, dropna=False).agg(aggs).reset_index()\n",
    "    # Flatten the hierarchical column index and concatenate aggregation function names with column names\n",
    "    df_agg.columns = [f'{col}_{func}' if func != '' else col for col, func in df_agg.columns]\n",
    "    # Rename the 'date' column based on the frequency\n",
    "    date_col_name = 'month' if freq == 'MS' else 'week'\n",
    "    df_agg.rename(columns={f'{date_col}_': date_col_name}, inplace=True)\n",
    "    df_agg['date'] = pd.to_datetime(df_agg['date'])\n",
    "    \n",
    "    return df_agg\n",
    "\n",
    "# Perform monthly aggregation\n",
    "df_monthly = aggregate_data(df, freq='MS')\n",
    "\n",
    "# Perform weekly aggregation\n",
    "df_weekly = aggregate_data(df, freq='W-MON')\n",
    "\n",
    "# Now df_monthly and df_weekly contain the aggregated data"
   ]
  },
  {
   "cell_type": "code",
   "execution_count": 32,
   "metadata": {},
   "outputs": [],
   "source": [
    "# df[df['chain'] == 'Ethereum'].tail(5)\n",
    "# df_monthly.sample(10)\n",
    "# df_weekly.sample(10)"
   ]
  },
  {
   "cell_type": "code",
   "execution_count": 33,
   "metadata": {},
   "outputs": [
    {
     "name": "stdout",
     "output_type": "stream",
     "text": [
      "uploading dfl_chain_tvl\n",
      "Response status code: 200\n",
      "Response content: b'{\"success\":true,\"table_name\":\"dfl_chain_tvl\"}'\n",
      "table at: dune.oplabspbc.dataset_dfl_chain_tvl\n",
      "uploading dfl_chain_tv_monthly\n",
      "Response status code: 200\n",
      "Response content: b'{\"success\":true,\"table_name\":\"dfl_chain_tv_monthly\"}'\n",
      "table at: dune.oplabspbc.dataset_dfl_chain_tv_monthly\n",
      "uploading dfl_chain_tv_weekly\n",
      "Response status code: 200\n",
      "Response content: b'{\"success\":true,\"table_name\":\"dfl_chain_tv_weekly\"}'\n",
      "table at: dune.oplabspbc.dataset_dfl_chain_tv_weekly\n"
     ]
    }
   ],
   "source": [
    "# export\n",
    "# folder = 'outputs/'\n",
    "# df.to_csv(folder + 'dfl_chain_tvl.csv', index = False)\n",
    "# df_365.to_csv(folder + 'dfl_chain_tvl_t365d.csv', index = False)\n",
    "# df_monthly.to_csv(folder + 'dfl_chain_tvl_monthly.csv', index = False)\n",
    "# df_weekly.to_csv(folder + 'dfl_chain_tvl_weekly.csv', index = False)\n",
    "# Write to Dune\n",
    "du.write_dune_api_from_pandas(df, 'dfl_chain_tvl',\\\n",
    "                             'TVL for select chains from DefiLlama')\n",
    "du.write_dune_api_from_pandas(df_monthly, 'dfl_chain_tv_monthly',\\\n",
    "                             'Monthly TVL for select chains from DefiLlama')\n",
    "du.write_dune_api_from_pandas(df_weekly, 'dfl_chain_tv_weekly',\\\n",
    "                             'Weekly TVL for select chains from DefiLlama')"
   ]
  },
  {
   "cell_type": "code",
   "execution_count": 34,
   "metadata": {},
   "outputs": [
    {
     "name": "stdout",
     "output_type": "stream",
     "text": [
      "Start Writing api_table_uploads.daily_defillama_chain_tvl\n",
      "Chunk 1/1 loaded successfully to api_table_uploads.daily_defillama_chain_tvl\n",
      "All data loaded successfully to api_table_uploads.daily_defillama_chain_tvl\n",
      "Start Writing api_table_uploads.monthly_defillama_chain_tvl\n",
      "Chunk 1/1 loaded successfully to api_table_uploads.monthly_defillama_chain_tvl\n",
      "All data loaded successfully to api_table_uploads.monthly_defillama_chain_tvl\n",
      "Start Writing api_table_uploads.weekly_defillama_chain_tvl\n",
      "Chunk 1/1 loaded successfully to api_table_uploads.weekly_defillama_chain_tvl\n",
      "All data loaded successfully to api_table_uploads.weekly_defillama_chain_tvl\n"
     ]
    }
   ],
   "source": [
    "#BQ Upload\n",
    "bqu.write_df_to_bq_table(df, 'daily_defillama_chain_tvl')\n",
    "time.sleep(1)\n",
    "bqu.write_df_to_bq_table(df_monthly, 'monthly_defillama_chain_tvl')\n",
    "time.sleep(1)\n",
    "bqu.write_df_to_bq_table(df_weekly, 'weekly_defillama_chain_tvl')"
   ]
  }
 ],
 "metadata": {
  "kernelspec": {
   "display_name": "new-env",
   "language": "python",
   "name": "python3"
  },
  "language_info": {
   "codemirror_mode": {
    "name": "ipython",
    "version": 3
   },
   "file_extension": ".py",
   "mimetype": "text/x-python",
   "name": "python",
   "nbconvert_exporter": "python",
   "pygments_lexer": "ipython3",
   "version": "3.12.3"
  },
  "orig_nbformat": 4
 },
 "nbformat": 4,
 "nbformat_minor": 2
}

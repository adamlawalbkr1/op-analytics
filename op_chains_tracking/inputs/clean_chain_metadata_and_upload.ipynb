{
 "cells": [
  {
   "cell_type": "code",
   "execution_count": 1,
   "metadata": {},
   "outputs": [
    {
     "data": {
      "text/plain": [
       "True"
      ]
     },
     "execution_count": 1,
     "metadata": {},
     "output_type": "execute_result"
    }
   ],
   "source": [
    "import pandas as pd\n",
    "import sys\n",
    "sys.path.append(\"../../helper_functions\")\n",
    "import opstack_metadata_utils as ops\n",
    "import duneapi_utils as d\n",
    "import google_bq_utils as bqu\n",
    "import clickhouse_utils as ch\n",
    "sys.path.pop()\n",
    "\n",
    "import dotenv\n",
    "import os\n",
    "dotenv.load_dotenv()"
   ]
  },
  {
   "cell_type": "code",
   "execution_count": 2,
   "metadata": {},
   "outputs": [],
   "source": [
    "# Read the CSV file\n",
    "df = pd.read_csv('chain_metadata_raw.csv')\n",
    "\n",
    "table_name = 'op_stack_chain_metadata'"
   ]
  },
  {
   "cell_type": "code",
   "execution_count": 3,
   "metadata": {},
   "outputs": [],
   "source": [
    "import math\n",
    "\n",
    "def convert_to_int_or_keep_string(value):\n",
    "    try:\n",
    "        float_value = float(value)\n",
    "        if math.isnan(float_value):  # Check if value is NaN\n",
    "            return None\n",
    "        if float_value.is_integer():\n",
    "            val = str(int(float_value))  # Convert to int and then to string\n",
    "        else:\n",
    "            val = str(value)  # Convert to string\n",
    "    except ValueError:\n",
    "        val = str(value)  # Convert to string\n",
    "    if val.endswith('.0'):\n",
    "        val = val[:-2]  # Remove the last two characters\n",
    "    return val\n"
   ]
  },
  {
   "cell_type": "code",
   "execution_count": 4,
   "metadata": {},
   "outputs": [
    {
     "name": "stderr",
     "output_type": "stream",
     "text": [
      "/var/folders/by/kltjc8yd0yz_7_wrtrzhrm9m0000gn/T/ipykernel_10643/78957915.py:3: FutureWarning: DataFrame.applymap has been deprecated. Use DataFrame.map instead.\n",
      "  df = df.applymap(lambda x: x.strip() if isinstance(x, str) else x)\n",
      "/var/folders/by/kltjc8yd0yz_7_wrtrzhrm9m0000gn/T/ipykernel_10643/78957915.py:5: UserWarning: Could not infer format, so each element will be parsed individually, falling back to `dateutil`. To ensure parsing is consistent and as-expected, please specify a format.\n",
      "  df['public_mainnet_launch_date'] = pd.to_datetime(df['public_mainnet_launch_date'], errors='coerce')\n",
      "/var/folders/by/kltjc8yd0yz_7_wrtrzhrm9m0000gn/T/ipykernel_10643/78957915.py:6: UserWarning: Could not infer format, so each element will be parsed individually, falling back to `dateutil`. To ensure parsing is consistent and as-expected, please specify a format.\n",
      "  df['op_chain_start'] = pd.to_datetime(df['op_chain_start'], errors='coerce')\n"
     ]
    }
   ],
   "source": [
    "# Trim columns\n",
    "df.columns = df.columns.str.replace(\" \", \"\").str.strip()\n",
    "df = df.applymap(lambda x: x.strip() if isinstance(x, str) else x)\n",
    "# Datetime\n",
    "df['public_mainnet_launch_date'] = pd.to_datetime(df['public_mainnet_launch_date'], errors='coerce')\n",
    "df['op_chain_start'] = pd.to_datetime(df['op_chain_start'], errors='coerce')\n",
    "# ChainID\n",
    "# Apply the function to the column\n",
    "df['mainnet_chain_id'] = df['mainnet_chain_id'].apply(convert_to_int_or_keep_string)\n",
    "# df['mainnet_chain_id'] = int(df['mainnet_chain_id'])\n",
    "#Generate Alignment Column\n",
    "df = ops.generate_alignment_column(df)\n",
    "\n",
    "# Replace NaN values in object type columns with an empty string\n",
    "object_columns = df.select_dtypes(include=['object']).columns\n",
    "df[object_columns] = df[object_columns].fillna('')\n",
    "\n",
    "# Save the cleaned DataFrame to a new CSV file\n",
    "df.to_csv('../outputs/chain_metadata.csv', index=False)"
   ]
  },
  {
   "cell_type": "code",
   "execution_count": 5,
   "metadata": {},
   "outputs": [],
   "source": [
    "# df.dtypes"
   ]
  },
  {
   "cell_type": "code",
   "execution_count": 6,
   "metadata": {},
   "outputs": [
    {
     "data": {
      "text/html": [
       "<div>\n",
       "<style scoped>\n",
       "    .dataframe tbody tr th:only-of-type {\n",
       "        vertical-align: middle;\n",
       "    }\n",
       "\n",
       "    .dataframe tbody tr th {\n",
       "        vertical-align: top;\n",
       "    }\n",
       "\n",
       "    .dataframe thead th {\n",
       "        text-align: right;\n",
       "    }\n",
       "</style>\n",
       "<table border=\"1\" class=\"dataframe\">\n",
       "  <thead>\n",
       "    <tr style=\"text-align: right;\">\n",
       "      <th></th>\n",
       "      <th>chain_name</th>\n",
       "      <th>display_name</th>\n",
       "      <th>mainnet_chain_id</th>\n",
       "      <th>public_mainnet_launch_date</th>\n",
       "      <th>op_based_version</th>\n",
       "      <th>chain_type</th>\n",
       "      <th>op_chain_start</th>\n",
       "      <th>has_mods</th>\n",
       "      <th>raas_deployer</th>\n",
       "      <th>rpc_url</th>\n",
       "      <th>...</th>\n",
       "      <th>oso_schema</th>\n",
       "      <th>batchinbox_from</th>\n",
       "      <th>batchinbox_to</th>\n",
       "      <th>outputoracle_from</th>\n",
       "      <th>outputoracle_to_proxy</th>\n",
       "      <th>l1_standard_bridge</th>\n",
       "      <th>optimism_portal</th>\n",
       "      <th>dispute_game_factory</th>\n",
       "      <th>is_op_chain</th>\n",
       "      <th>alignment</th>\n",
       "    </tr>\n",
       "  </thead>\n",
       "  <tbody>\n",
       "    <tr>\n",
       "      <th>0</th>\n",
       "      <td>op</td>\n",
       "      <td>OP Mainnet</td>\n",
       "      <td>10</td>\n",
       "      <td>2021-11-11</td>\n",
       "      <td>modern</td>\n",
       "      <td>OP Mainnet</td>\n",
       "      <td>2021-06-23</td>\n",
       "      <td>no</td>\n",
       "      <td>OP Mainnet</td>\n",
       "      <td>https://mainnet.optimism.io</td>\n",
       "      <td>...</td>\n",
       "      <td>optimism</td>\n",
       "      <td>0x6887246668a3b87F54DeB3b94Ba47a6f63F32985</td>\n",
       "      <td>0xff00000000000000000000000000000000000010</td>\n",
       "      <td>0x473300df21D047806A082244b417f96b32f13A33</td>\n",
       "      <td>0xdfe97868233d1aa22e815a266982f2cf17685a27</td>\n",
       "      <td>0x99C9fc46f92E8a1c0deC1b1747d010903E884bE1</td>\n",
       "      <td></td>\n",
       "      <td>0xe5965Ab5962eDc7477C8520243A95517CD252fA9</td>\n",
       "      <td>True</td>\n",
       "      <td>OP Chain</td>\n",
       "    </tr>\n",
       "  </tbody>\n",
       "</table>\n",
       "<p>1 rows × 36 columns</p>\n",
       "</div>"
      ],
      "text/plain": [
       "  chain_name display_name mainnet_chain_id public_mainnet_launch_date  \\\n",
       "0         op   OP Mainnet               10                 2021-11-11   \n",
       "\n",
       "  op_based_version  chain_type op_chain_start has_mods raas_deployer  \\\n",
       "0           modern  OP Mainnet     2021-06-23       no    OP Mainnet   \n",
       "\n",
       "                       rpc_url  ... oso_schema  \\\n",
       "0  https://mainnet.optimism.io  ...   optimism   \n",
       "\n",
       "                              batchinbox_from  \\\n",
       "0  0x6887246668a3b87F54DeB3b94Ba47a6f63F32985   \n",
       "\n",
       "                                batchinbox_to  \\\n",
       "0  0xff00000000000000000000000000000000000010   \n",
       "\n",
       "                            outputoracle_from  \\\n",
       "0  0x473300df21D047806A082244b417f96b32f13A33   \n",
       "\n",
       "                        outputoracle_to_proxy  \\\n",
       "0  0xdfe97868233d1aa22e815a266982f2cf17685a27   \n",
       "\n",
       "                           l1_standard_bridge optimism_portal  \\\n",
       "0  0x99C9fc46f92E8a1c0deC1b1747d010903E884bE1                   \n",
       "\n",
       "                         dispute_game_factory  is_op_chain alignment  \n",
       "0  0xe5965Ab5962eDc7477C8520243A95517CD252fA9         True  OP Chain  \n",
       "\n",
       "[1 rows x 36 columns]"
      ]
     },
     "execution_count": 6,
     "metadata": {},
     "output_type": "execute_result"
    }
   ],
   "source": [
    "#check chain id\n",
    "df[df['display_name'] =='OP Mainnet']"
   ]
  },
  {
   "cell_type": "code",
   "execution_count": 7,
   "metadata": {},
   "outputs": [
    {
     "name": "stdout",
     "output_type": "stream",
     "text": [
      "uploading op_stack_chain_metadata_info_tracking\n",
      "Response status code: 200\n",
      "Response content: b'{\"success\":true,\"table_name\":\"op_stack_chain_metadata_info_tracking\"}'\n",
      "table at: dune.oplabspbc.dataset_op_stack_chain_metadata_info_tracking\n",
      "Start Writing api_table_uploads.op_stack_chain_metadata\n",
      "Data loaded successfully to api_table_uploads.op_stack_chain_metadata\n",
      "Existing data in table 'op_stack_chain_metadata' has been deleted.\n",
      "Data written to table 'op_stack_chain_metadata' successfully, replacing previous data.\n"
     ]
    }
   ],
   "source": [
    "# Post to Dune API\n",
    "d.write_dune_api_from_pandas(df, table_name + '_info_tracking',\\\n",
    "                             'Basic Info & Metadata about OP Stack Chains, including forks')\n",
    "#BQ Upload\n",
    "bqu.write_df_to_bq_table(df, table_name)\n",
    "\n",
    "#CH Upload\n",
    "ch.write_df_to_clickhouse(df, table_name, if_exists='replace')"
   ]
  }
 ],
 "metadata": {
  "kernelspec": {
   "display_name": "py10",
   "language": "python",
   "name": "python3"
  },
  "language_info": {
   "codemirror_mode": {
    "name": "ipython",
    "version": 3
   },
   "file_extension": ".py",
   "mimetype": "text/x-python",
   "name": "python",
   "nbconvert_exporter": "python",
   "pygments_lexer": "ipython3",
   "version": "3.12.3"
  }
 },
 "nbformat": 4,
 "nbformat_minor": 2
}
